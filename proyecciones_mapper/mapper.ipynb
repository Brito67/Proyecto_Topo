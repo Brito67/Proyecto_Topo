{
 "cells": [
  {
   "cell_type": "code",
   "execution_count": 238,
   "metadata": {},
   "outputs": [],
   "source": [
    "#Librerías basicas de manipulación de objetos \n",
    "import pandas as pd\n",
    "import seaborn as sns\n",
    "import numpy as np\n",
    "\n",
    "#Métodos estadisticos\n",
    "from scipy.stats import anderson\n",
    "import statsmodels.api as sm\n",
    "from statsmodels.tsa.seasonal import seasonal_decompose"
   ]
  },
  {
   "attachments": {},
   "cell_type": "markdown",
   "metadata": {},
   "source": [
    "# Archivo .txt"
   ]
  },
  {
   "attachments": {},
   "cell_type": "markdown",
   "metadata": {},
   "source": [
    "Lectura y estructuración de los datos en un DataFrame"
   ]
  },
  {
   "cell_type": "code",
   "execution_count": 4,
   "metadata": {},
   "outputs": [],
   "source": [
    "#Se leen los datos del archivo .txt\n",
    "data_reto2 = pd.read_csv('C:\\\\Users\\\\Alfre\\\\Escritorio\\\\vs_code\\\\Topología\\\\sstoi.indices.txt')"
   ]
  },
  {
   "cell_type": "code",
   "execution_count": 5,
   "metadata": {},
   "outputs": [],
   "source": [
    "data_reto2.columns=['x'] # renombrar la columna de los datos\n",
    "df3 = data_reto2['x'].str.split(n=9, expand=True) # Se divide en las columnas de datos originales\n",
    "df3.columns = ['column{}'.format(x+1) for x in df3.columns]\n",
    "df3.rename(columns={'column1': 'Year','column2':'Month',\n",
    "                    'column3': 'nino1+2','column4':'anom1+2',\n",
    "                    'column5': 'nino3','column6':'anom3',\n",
    "                    'column7': 'nino4','column8':'anom4',\n",
    "                    'column9': 'nino3_4','column10':'anom3_4'},inplace=True) #Se cambia el nombre de las columnas\n",
    "df3['date'] = pd.to_datetime(dict(year=df3.Year, month=df3.Month, day=1)) #Se genera la columna fecha a partir de las columnas mes y año"
   ]
  },
  {
   "cell_type": "code",
   "execution_count": 6,
   "metadata": {},
   "outputs": [],
   "source": [
    "#Se leen los datos del archivo .txt\n",
    "soi = pd.read_csv('C:\\\\Users\\\\Alfre\\\\Escritorio\\\\vs_code\\\\Topología\\\\soi.txt')"
   ]
  },
  {
   "cell_type": "code",
   "execution_count": 7,
   "metadata": {},
   "outputs": [],
   "source": [
    "soi.columns=['x'] # renombrar la columna de los datos\n",
    "soi3 = soi['x'].str.split(n=12, expand=True) # Se divide en las columnas de datos originales\n",
    "soi3.columns = ['column{}'.format(x+1) for x in soi3.columns]\n",
    "soi3.rename(columns={'column1': 'Year','column2': '1',\n",
    "                    'column3': '2','column4': '3',\n",
    "                    'column5': '4','column6': '5',\n",
    "                    'column7': '6','column8':'7',\n",
    "                    'column9': '8','column10': '9',\n",
    "                    'column11': '10', 'column12': '11', \n",
    "                    'column13': '12'},inplace=True) #Se cambia el nombre de las columnas\n",
    "#soi3['date'] = pd.to_datetime(dict(year=soi3.Year, month=1, day=1)) #Se genera la columna fecha a partir de las columnas mes y año\n",
    "\n",
    "# Create a new column for the year\n",
    "soi3['Year'] = soi3['Year'].astype(str)\n",
    "\n",
    "# Reshape the dataframe to have a single column for months\n",
    "soi3 = soi3.melt(id_vars=['Year'], var_name='Month', value_name='Value')\n",
    "\n",
    "# Create a datetime column using the Year and Month columns\n",
    "soi3['Date'] = pd.to_datetime(soi3['Year'] + '-' + soi3['Month'], format=\"%Y/%m/%d\", dayfirst=True)    \n",
    "\n",
    "# Drop the original Month column\n",
    "soi3 = soi3.drop('Month', axis=1)\n",
    "\n",
    "soi3 = soi3.sort_values('Date')\n",
    "\n",
    "# Replace -999.9 with NaN to represent missing values\n",
    "soi3.replace('-999.9', float('nan'), inplace=True)\n",
    "soi3.dropna(inplace=True)"
   ]
  },
  {
   "cell_type": "code",
   "execution_count": 8,
   "metadata": {},
   "outputs": [
    {
     "name": "stderr",
     "output_type": "stream",
     "text": [
      "C:\\Users\\Alfre\\AppData\\Local\\Temp\\ipykernel_16764\\3850331229.py:7: SettingWithCopyWarning: \n",
      "A value is trying to be set on a copy of a slice from a DataFrame.\n",
      "Try using .loc[row_indexer,col_indexer] = value instead\n",
      "\n",
      "See the caveats in the documentation: https://pandas.pydata.org/pandas-docs/stable/user_guide/indexing.html#returning-a-view-versus-a-copy\n",
      "  meiv3['Year'] = meiv3['Year'].astype(str)\n"
     ]
    }
   ],
   "source": [
    "meiv2 = pd.read_csv('C:\\\\Users\\\\Alfre\\\\Escritorio\\\\vs_code\\\\Topología\\\\nino_miv2.txt', delim_whitespace=True)\n",
    "\n",
    "#remove the last row\n",
    "meiv3 = meiv2[:-1]\n",
    "\n",
    "# Create a new column for the year\n",
    "meiv3['Year'] = meiv3['Year'].astype(str)\n",
    "\n",
    "# Reshape the dataframe to have a single column for months\n",
    "meiv3 = meiv3.melt(id_vars=['Year'], var_name='Month', value_name='Value')\n",
    "\n",
    "# Create a datetime column using the Year and Month columns\n",
    "meiv3['Date'] = pd.to_datetime(meiv3['Year'] + '-' + meiv3['Month'], format=\"%Y/%m/%d\", dayfirst=True)    \n",
    "\n",
    "# Drop the original Month column\n",
    "meiv3 = meiv3.drop('Month', axis=1)\n",
    "\n",
    "meiv3 = meiv3.sort_values('Date')"
   ]
  },
  {
   "cell_type": "code",
   "execution_count": 9,
   "metadata": {},
   "outputs": [],
   "source": [
    "#Se leen los datos del archivo .txt\n",
    "oni = pd.read_csv('C:\\\\Users\\\\Alfre\\\\Escritorio\\\\vs_code\\\\Topología\\\\oni.txt')"
   ]
  },
  {
   "cell_type": "code",
   "execution_count": 10,
   "metadata": {},
   "outputs": [],
   "source": [
    "oni.columns=['x'] # renombrar la columna de los datos\n",
    "oni3 = oni['x'].str.split(n=12, expand=True) # Se divide en las columnas de datos originales\n",
    "oni3.columns = ['column{}'.format(x+1) for x in oni3.columns]\n",
    "oni3.rename(columns={'column1': 'SEAS','column2':'Year',\n",
    "                    'column3': 'TOTAL','column4':'ANOM'},inplace=True) #Se cambia el nombre de las columnas\n",
    "oni3['date'] = pd.to_datetime(dict(year=oni3.Year, month=1, day=1)) #Se genera la columna fecha a partir de las columnas mes y año"
   ]
  },
  {
   "cell_type": "code",
   "execution_count": 11,
   "metadata": {},
   "outputs": [],
   "source": [
    "#Se leen los datos del archivo .txt\n",
    "olr = pd.read_csv('C:\\\\Users\\\\Alfre\\\\Escritorio\\\\vs_code\\\\Topología\\\\olr.txt')"
   ]
  },
  {
   "cell_type": "code",
   "execution_count": 12,
   "metadata": {},
   "outputs": [],
   "source": [
    "olr.columns=['x'] # renombrar la columna de los datos\n",
    "olr3 = olr['x'].str.split(n=12, expand=True) # Se divide en las columnas de datos originales\n",
    "olr3.columns = ['column{}'.format(x+1) for x in olr3.columns]\n",
    "olr3.rename(columns={'column1': 'Year','column2': '1',\n",
    "                    'column3': '2','column4': '3',\n",
    "                    'column5': '4','column6': '5',\n",
    "                    'column7': '6','column8':'7',\n",
    "                    'column9': '8','column10': '9',\n",
    "                    'column11': '10', 'column12': '11', \n",
    "                    'column13': '12'},inplace=True) #Se cambia el nombre de las columnas\n",
    "#olr3['date'] = pd.to_datetime(dict(year=olr3.Year, month=1, day=1)) #Se genera la columna fecha a partir de las columnas mes y año\n",
    "\n",
    "\n",
    "# Create a new column for the year\n",
    "olr3['Year'] = olr3['Year'].astype(str)\n",
    "\n",
    "# Reshape the dataframe to have a single column for months\n",
    "olr3 = olr3.melt(id_vars=['Year'], var_name='Month', value_name='Value')\n",
    "\n",
    "# Create a datetime column using the Year and Month columns\n",
    "olr3['Date'] = pd.to_datetime(olr3['Year'] + '-' + olr3['Month'], format=\"%Y/%m/%d\", dayfirst=True)    \n",
    "\n",
    "# Drop the original Month column\n",
    "olr3 = olr3.drop('Month', axis=1)\n",
    "\n",
    "olr3 = olr3.sort_values('Date')"
   ]
  },
  {
   "cell_type": "code",
   "execution_count": 13,
   "metadata": {},
   "outputs": [],
   "source": [
    "olr.columns=['x'] # renombrar la columna de los datos\n",
    "olr4 = olr['x'].str.split(n=12, expand=True) # Se divide en las columnas de datos originales\n",
    "olr4.columns = ['column{}'.format(x+1) for x in olr4.columns]\n",
    "olr4.rename(columns={'column1': 'Year','column2': '1',\n",
    "                    'column3': '2','column4': '3',\n",
    "                    'column5': '4','column6': '5',\n",
    "                    'column7': '6','column8':'7',\n",
    "                    'column9': '8','column10': '9',\n",
    "                    'column11': '10', 'column12': '11', \n",
    "                    'column13': '12'},inplace=True) #Se cambia el nombre de las columnas\n",
    "#olr4['date'] = pd.to_datetime(dict(year=olr4.Year, month=1, day=1)) #Se genera la columna fecha a partir de las columnas mes y año\n",
    "\n",
    "olr5 = olr4.drop(['Year'], axis=1)\n",
    "\n",
    "# Replace -999.9 with NaN to represent missing values\n",
    "olr5.replace('-999.9', float('nan'), inplace=True)\n",
    "\n",
    "# Transpose the DataFrame\n",
    "olr5 = olr5.T\n",
    "\n",
    "# Perform LOCF imputation\n",
    "olr5.fillna(method='ffill', inplace=True)\n",
    "\n",
    "# Transpose the DataFrame back to the original shape\n",
    "olr5 = olr5.T\n",
    "\n",
    "# Print the imputed DataFrame\n",
    "olr5['Year'] = olr4['Year']\n",
    "\n",
    "# Create a new column for the year\n",
    "olr5['Year'] = olr5['Year'].astype(str)\n",
    "\n",
    "# Reshape the dataframe to have a single column for months\n",
    "olr5 = olr5.melt(id_vars=['Year'], var_name='Month', value_name='Value')\n",
    "\n",
    "# Create a datetime column using the Year and Month columns\n",
    "olr5['Date'] = pd.to_datetime(olr5['Year'] + '-' + olr5['Month'], format=\"%Y/%m/%d\", dayfirst=True)    \n",
    "\n",
    "# Drop the original Month column\n",
    "olr5 = olr5.drop('Month', axis=1)\n",
    "\n",
    "olr5 = olr5.sort_values('Date')\n",
    "\n",
    "#remove first 5 rows and last 8\n",
    "\n",
    "olr5 = olr5[5:-8]"
   ]
  },
  {
   "cell_type": "code",
   "execution_count": 14,
   "metadata": {},
   "outputs": [],
   "source": [
    "#Se leen los datos del archivo .txt\n",
    "data_reto2 = pd.read_csv('C:\\\\Users\\\\Alfre\\\\Escritorio\\\\vs_code\\\\Topología\\\\sstoi.indices.txt')"
   ]
  },
  {
   "cell_type": "code",
   "execution_count": 15,
   "metadata": {},
   "outputs": [],
   "source": [
    "data_reto2.columns=['x'] # renombrar la columna de los datos\n",
    "df3 = data_reto2['x'].str.split(n=9, expand=True) # Se divide en las columnas de datos originales\n",
    "df3.columns = ['column{}'.format(x+1) for x in df3.columns]\n",
    "df3.rename(columns={'column1': 'Year','column2':'Month',\n",
    "                    'column3': 'nino1+2','column4':'anom1+2',\n",
    "                    'column5': 'nino3','column6':'anom3',\n",
    "                    'column7': 'nino4','column8':'anom4',\n",
    "                    'column9': 'nino3_4','column10':'anom3_4'},inplace=True) #Se cambia el nombre de las columnas\n",
    "df3['date'] = pd.to_datetime(dict(year=df3.Year, month=df3.Month, day=1)) #Se genera la columna fecha a partir de las columnas mes y año"
   ]
  },
  {
   "cell_type": "code",
   "execution_count": 16,
   "metadata": {},
   "outputs": [
    {
     "data": {
      "text/html": [
       "<div>\n",
       "<style scoped>\n",
       "    .dataframe tbody tr th:only-of-type {\n",
       "        vertical-align: middle;\n",
       "    }\n",
       "\n",
       "    .dataframe tbody tr th {\n",
       "        vertical-align: top;\n",
       "    }\n",
       "\n",
       "    .dataframe thead th {\n",
       "        text-align: right;\n",
       "    }\n",
       "</style>\n",
       "<table border=\"1\" class=\"dataframe\">\n",
       "  <thead>\n",
       "    <tr style=\"text-align: right;\">\n",
       "      <th></th>\n",
       "      <th>nino1+2</th>\n",
       "      <th>anom1+2</th>\n",
       "      <th>nino3</th>\n",
       "      <th>anom3</th>\n",
       "      <th>nino4</th>\n",
       "      <th>anom4</th>\n",
       "      <th>nino3_4</th>\n",
       "      <th>anom3_4</th>\n",
       "    </tr>\n",
       "    <tr>\n",
       "      <th>date</th>\n",
       "      <th></th>\n",
       "      <th></th>\n",
       "      <th></th>\n",
       "      <th></th>\n",
       "      <th></th>\n",
       "      <th></th>\n",
       "      <th></th>\n",
       "      <th></th>\n",
       "    </tr>\n",
       "  </thead>\n",
       "  <tbody>\n",
       "    <tr>\n",
       "      <th>1982-01-01</th>\n",
       "      <td>24.28</td>\n",
       "      <td>-0.24</td>\n",
       "      <td>25.84</td>\n",
       "      <td>0.17</td>\n",
       "      <td>28.01</td>\n",
       "      <td>-0.21</td>\n",
       "      <td>26.65</td>\n",
       "      <td>0.08</td>\n",
       "    </tr>\n",
       "    <tr>\n",
       "      <th>1982-02-01</th>\n",
       "      <td>25.38</td>\n",
       "      <td>-0.72</td>\n",
       "      <td>26.26</td>\n",
       "      <td>-0.11</td>\n",
       "      <td>27.99</td>\n",
       "      <td>-0.11</td>\n",
       "      <td>26.54</td>\n",
       "      <td>-0.20</td>\n",
       "    </tr>\n",
       "    <tr>\n",
       "      <th>1982-03-01</th>\n",
       "      <td>25.22</td>\n",
       "      <td>-1.38</td>\n",
       "      <td>26.92</td>\n",
       "      <td>-0.25</td>\n",
       "      <td>28.18</td>\n",
       "      <td>-0.05</td>\n",
       "      <td>27.09</td>\n",
       "      <td>-0.14</td>\n",
       "    </tr>\n",
       "    <tr>\n",
       "      <th>1982-04-01</th>\n",
       "      <td>24.57</td>\n",
       "      <td>-1.16</td>\n",
       "      <td>27.52</td>\n",
       "      <td>-0.05</td>\n",
       "      <td>28.61</td>\n",
       "      <td>0.10</td>\n",
       "      <td>27.83</td>\n",
       "      <td>0.02</td>\n",
       "    </tr>\n",
       "    <tr>\n",
       "      <th>1982-05-01</th>\n",
       "      <td>24.00</td>\n",
       "      <td>-0.62</td>\n",
       "      <td>27.70</td>\n",
       "      <td>0.49</td>\n",
       "      <td>29.19</td>\n",
       "      <td>0.40</td>\n",
       "      <td>28.37</td>\n",
       "      <td>0.49</td>\n",
       "    </tr>\n",
       "    <tr>\n",
       "      <th>...</th>\n",
       "      <td>...</td>\n",
       "      <td>...</td>\n",
       "      <td>...</td>\n",
       "      <td>...</td>\n",
       "      <td>...</td>\n",
       "      <td>...</td>\n",
       "      <td>...</td>\n",
       "      <td>...</td>\n",
       "    </tr>\n",
       "    <tr>\n",
       "      <th>2022-12-01</th>\n",
       "      <td>22.54</td>\n",
       "      <td>-0.30</td>\n",
       "      <td>24.48</td>\n",
       "      <td>-0.78</td>\n",
       "      <td>27.71</td>\n",
       "      <td>-0.73</td>\n",
       "      <td>25.81</td>\n",
       "      <td>-0.84</td>\n",
       "    </tr>\n",
       "    <tr>\n",
       "      <th>2023-01-01</th>\n",
       "      <td>24.27</td>\n",
       "      <td>-0.24</td>\n",
       "      <td>25.17</td>\n",
       "      <td>-0.50</td>\n",
       "      <td>27.62</td>\n",
       "      <td>-0.60</td>\n",
       "      <td>25.88</td>\n",
       "      <td>-0.69</td>\n",
       "    </tr>\n",
       "    <tr>\n",
       "      <th>2023-02-01</th>\n",
       "      <td>26.80</td>\n",
       "      <td>0.71</td>\n",
       "      <td>26.25</td>\n",
       "      <td>-0.13</td>\n",
       "      <td>27.58</td>\n",
       "      <td>-0.52</td>\n",
       "      <td>26.29</td>\n",
       "      <td>-0.44</td>\n",
       "    </tr>\n",
       "    <tr>\n",
       "      <th>2023-03-01</th>\n",
       "      <td>28.12</td>\n",
       "      <td>1.52</td>\n",
       "      <td>27.52</td>\n",
       "      <td>0.36</td>\n",
       "      <td>28.09</td>\n",
       "      <td>-0.14</td>\n",
       "      <td>27.23</td>\n",
       "      <td>-0.01</td>\n",
       "    </tr>\n",
       "    <tr>\n",
       "      <th>2023-04-01</th>\n",
       "      <td>28.18</td>\n",
       "      <td>2.45</td>\n",
       "      <td>28.02</td>\n",
       "      <td>0.44</td>\n",
       "      <td>28.81</td>\n",
       "      <td>0.30</td>\n",
       "      <td>27.99</td>\n",
       "      <td>0.19</td>\n",
       "    </tr>\n",
       "  </tbody>\n",
       "</table>\n",
       "<p>496 rows × 8 columns</p>\n",
       "</div>"
      ],
      "text/plain": [
       "            nino1+2  anom1+2  nino3  anom3  nino4  anom4  nino3_4  anom3_4\n",
       "date                                                                      \n",
       "1982-01-01    24.28    -0.24  25.84   0.17  28.01  -0.21    26.65     0.08\n",
       "1982-02-01    25.38    -0.72  26.26  -0.11  27.99  -0.11    26.54    -0.20\n",
       "1982-03-01    25.22    -1.38  26.92  -0.25  28.18  -0.05    27.09    -0.14\n",
       "1982-04-01    24.57    -1.16  27.52  -0.05  28.61   0.10    27.83     0.02\n",
       "1982-05-01    24.00    -0.62  27.70   0.49  29.19   0.40    28.37     0.49\n",
       "...             ...      ...    ...    ...    ...    ...      ...      ...\n",
       "2022-12-01    22.54    -0.30  24.48  -0.78  27.71  -0.73    25.81    -0.84\n",
       "2023-01-01    24.27    -0.24  25.17  -0.50  27.62  -0.60    25.88    -0.69\n",
       "2023-02-01    26.80     0.71  26.25  -0.13  27.58  -0.52    26.29    -0.44\n",
       "2023-03-01    28.12     1.52  27.52   0.36  28.09  -0.14    27.23    -0.01\n",
       "2023-04-01    28.18     2.45  28.02   0.44  28.81   0.30    27.99     0.19\n",
       "\n",
       "[496 rows x 8 columns]"
      ]
     },
     "execution_count": 16,
     "metadata": {},
     "output_type": "execute_result"
    }
   ],
   "source": [
    "#Se crea un nuevo dataframe sin las columnas Year y Month y con la fecha como index\n",
    "sstoi_df= df3[['nino1+2',\t'anom1+2',\t'nino3',\t'anom3',\t'nino4',\t'anom4',\t'nino3_4',\t'anom3_4',\t'date']]\n",
    "sstoi_df = sstoi_df.set_index(['date'])\n",
    "sstoi_df = sstoi_df.apply(pd.to_numeric) # Convwertir los datos de object a numeric\n",
    "sstoi_df"
   ]
  },
  {
   "attachments": {},
   "cell_type": "markdown",
   "metadata": {},
   "source": [
    "#### Ahora vamos a usar mapper en combinación con los 3 nuevos indices en combinacion con cada uno de los ninos"
   ]
  },
  {
   "cell_type": "code",
   "execution_count": 103,
   "metadata": {},
   "outputs": [
    {
     "data": {
      "text/html": [
       "<div>\n",
       "<style scoped>\n",
       "    .dataframe tbody tr th:only-of-type {\n",
       "        vertical-align: middle;\n",
       "    }\n",
       "\n",
       "    .dataframe tbody tr th {\n",
       "        vertical-align: top;\n",
       "    }\n",
       "\n",
       "    .dataframe thead th {\n",
       "        text-align: right;\n",
       "    }\n",
       "</style>\n",
       "<table border=\"1\" class=\"dataframe\">\n",
       "  <thead>\n",
       "    <tr style=\"text-align: right;\">\n",
       "      <th></th>\n",
       "      <th>Year</th>\n",
       "      <th>Value</th>\n",
       "      <th>Date</th>\n",
       "    </tr>\n",
       "  </thead>\n",
       "  <tbody>\n",
       "    <tr>\n",
       "      <th>0</th>\n",
       "      <td>1951</td>\n",
       "      <td>2.5</td>\n",
       "      <td>1951-01-01</td>\n",
       "    </tr>\n",
       "    <tr>\n",
       "      <th>80</th>\n",
       "      <td>1951</td>\n",
       "      <td>1.5</td>\n",
       "      <td>1951-02-01</td>\n",
       "    </tr>\n",
       "    <tr>\n",
       "      <th>160</th>\n",
       "      <td>1951</td>\n",
       "      <td>-0.2</td>\n",
       "      <td>1951-03-01</td>\n",
       "    </tr>\n",
       "    <tr>\n",
       "      <th>240</th>\n",
       "      <td>1951</td>\n",
       "      <td>-0.5</td>\n",
       "      <td>1951-04-01</td>\n",
       "    </tr>\n",
       "    <tr>\n",
       "      <th>320</th>\n",
       "      <td>1951</td>\n",
       "      <td>-1.1</td>\n",
       "      <td>1951-05-01</td>\n",
       "    </tr>\n",
       "  </tbody>\n",
       "</table>\n",
       "</div>"
      ],
      "text/plain": [
       "     Year Value       Date\n",
       "0    1951   2.5 1951-01-01\n",
       "80   1951   1.5 1951-02-01\n",
       "160  1951  -0.2 1951-03-01\n",
       "240  1951  -0.5 1951-04-01\n",
       "320  1951  -1.1 1951-05-01"
      ]
     },
     "execution_count": 103,
     "metadata": {},
     "output_type": "execute_result"
    }
   ],
   "source": [
    "soi3.head()"
   ]
  },
  {
   "cell_type": "code",
   "execution_count": 104,
   "metadata": {},
   "outputs": [
    {
     "data": {
      "text/html": [
       "<div>\n",
       "<style scoped>\n",
       "    .dataframe tbody tr th:only-of-type {\n",
       "        vertical-align: middle;\n",
       "    }\n",
       "\n",
       "    .dataframe tbody tr th {\n",
       "        vertical-align: top;\n",
       "    }\n",
       "\n",
       "    .dataframe thead th {\n",
       "        text-align: right;\n",
       "    }\n",
       "</style>\n",
       "<table border=\"1\" class=\"dataframe\">\n",
       "  <thead>\n",
       "    <tr style=\"text-align: right;\">\n",
       "      <th></th>\n",
       "      <th>Year</th>\n",
       "      <th>Value</th>\n",
       "      <th>Date</th>\n",
       "    </tr>\n",
       "  </thead>\n",
       "  <tbody>\n",
       "    <tr>\n",
       "      <th>250</th>\n",
       "      <td>1974</td>\n",
       "      <td>61.0</td>\n",
       "      <td>1974-06-01</td>\n",
       "    </tr>\n",
       "    <tr>\n",
       "      <th>300</th>\n",
       "      <td>1974</td>\n",
       "      <td>46.2</td>\n",
       "      <td>1974-07-01</td>\n",
       "    </tr>\n",
       "    <tr>\n",
       "      <th>350</th>\n",
       "      <td>1974</td>\n",
       "      <td>66.9</td>\n",
       "      <td>1974-08-01</td>\n",
       "    </tr>\n",
       "    <tr>\n",
       "      <th>400</th>\n",
       "      <td>1974</td>\n",
       "      <td>68.5</td>\n",
       "      <td>1974-09-01</td>\n",
       "    </tr>\n",
       "    <tr>\n",
       "      <th>450</th>\n",
       "      <td>1974</td>\n",
       "      <td>68.9</td>\n",
       "      <td>1974-10-01</td>\n",
       "    </tr>\n",
       "  </tbody>\n",
       "</table>\n",
       "</div>"
      ],
      "text/plain": [
       "     Year Value       Date\n",
       "250  1974  61.0 1974-06-01\n",
       "300  1974  46.2 1974-07-01\n",
       "350  1974  66.9 1974-08-01\n",
       "400  1974  68.5 1974-09-01\n",
       "450  1974  68.9 1974-10-01"
      ]
     },
     "execution_count": 104,
     "metadata": {},
     "output_type": "execute_result"
    }
   ],
   "source": [
    "olr5.head()"
   ]
  },
  {
   "cell_type": "code",
   "execution_count": 105,
   "metadata": {},
   "outputs": [
    {
     "data": {
      "text/html": [
       "<div>\n",
       "<style scoped>\n",
       "    .dataframe tbody tr th:only-of-type {\n",
       "        vertical-align: middle;\n",
       "    }\n",
       "\n",
       "    .dataframe tbody tr th {\n",
       "        vertical-align: top;\n",
       "    }\n",
       "\n",
       "    .dataframe thead th {\n",
       "        text-align: right;\n",
       "    }\n",
       "</style>\n",
       "<table border=\"1\" class=\"dataframe\">\n",
       "  <thead>\n",
       "    <tr style=\"text-align: right;\">\n",
       "      <th></th>\n",
       "      <th>nino1+2</th>\n",
       "      <th>anom1+2</th>\n",
       "      <th>nino3</th>\n",
       "      <th>anom3</th>\n",
       "      <th>nino4</th>\n",
       "      <th>anom4</th>\n",
       "      <th>nino3_4</th>\n",
       "      <th>anom3_4</th>\n",
       "    </tr>\n",
       "    <tr>\n",
       "      <th>date</th>\n",
       "      <th></th>\n",
       "      <th></th>\n",
       "      <th></th>\n",
       "      <th></th>\n",
       "      <th></th>\n",
       "      <th></th>\n",
       "      <th></th>\n",
       "      <th></th>\n",
       "    </tr>\n",
       "  </thead>\n",
       "  <tbody>\n",
       "    <tr>\n",
       "      <th>1982-01-01</th>\n",
       "      <td>24.28</td>\n",
       "      <td>-0.24</td>\n",
       "      <td>25.84</td>\n",
       "      <td>0.17</td>\n",
       "      <td>28.01</td>\n",
       "      <td>-0.21</td>\n",
       "      <td>26.65</td>\n",
       "      <td>0.08</td>\n",
       "    </tr>\n",
       "    <tr>\n",
       "      <th>1982-02-01</th>\n",
       "      <td>25.38</td>\n",
       "      <td>-0.72</td>\n",
       "      <td>26.26</td>\n",
       "      <td>-0.11</td>\n",
       "      <td>27.99</td>\n",
       "      <td>-0.11</td>\n",
       "      <td>26.54</td>\n",
       "      <td>-0.20</td>\n",
       "    </tr>\n",
       "    <tr>\n",
       "      <th>1982-03-01</th>\n",
       "      <td>25.22</td>\n",
       "      <td>-1.38</td>\n",
       "      <td>26.92</td>\n",
       "      <td>-0.25</td>\n",
       "      <td>28.18</td>\n",
       "      <td>-0.05</td>\n",
       "      <td>27.09</td>\n",
       "      <td>-0.14</td>\n",
       "    </tr>\n",
       "    <tr>\n",
       "      <th>1982-04-01</th>\n",
       "      <td>24.57</td>\n",
       "      <td>-1.16</td>\n",
       "      <td>27.52</td>\n",
       "      <td>-0.05</td>\n",
       "      <td>28.61</td>\n",
       "      <td>0.10</td>\n",
       "      <td>27.83</td>\n",
       "      <td>0.02</td>\n",
       "    </tr>\n",
       "    <tr>\n",
       "      <th>1982-05-01</th>\n",
       "      <td>24.00</td>\n",
       "      <td>-0.62</td>\n",
       "      <td>27.70</td>\n",
       "      <td>0.49</td>\n",
       "      <td>29.19</td>\n",
       "      <td>0.40</td>\n",
       "      <td>28.37</td>\n",
       "      <td>0.49</td>\n",
       "    </tr>\n",
       "  </tbody>\n",
       "</table>\n",
       "</div>"
      ],
      "text/plain": [
       "            nino1+2  anom1+2  nino3  anom3  nino4  anom4  nino3_4  anom3_4\n",
       "date                                                                      \n",
       "1982-01-01    24.28    -0.24  25.84   0.17  28.01  -0.21    26.65     0.08\n",
       "1982-02-01    25.38    -0.72  26.26  -0.11  27.99  -0.11    26.54    -0.20\n",
       "1982-03-01    25.22    -1.38  26.92  -0.25  28.18  -0.05    27.09    -0.14\n",
       "1982-04-01    24.57    -1.16  27.52  -0.05  28.61   0.10    27.83     0.02\n",
       "1982-05-01    24.00    -0.62  27.70   0.49  29.19   0.40    28.37     0.49"
      ]
     },
     "execution_count": 105,
     "metadata": {},
     "output_type": "execute_result"
    }
   ],
   "source": [
    "sstoi_df.head()"
   ]
  },
  {
   "cell_type": "code",
   "execution_count": 112,
   "metadata": {},
   "outputs": [
    {
     "data": {
      "text/html": [
       "<div>\n",
       "<style scoped>\n",
       "    .dataframe tbody tr th:only-of-type {\n",
       "        vertical-align: middle;\n",
       "    }\n",
       "\n",
       "    .dataframe tbody tr th {\n",
       "        vertical-align: top;\n",
       "    }\n",
       "\n",
       "    .dataframe thead th {\n",
       "        text-align: right;\n",
       "    }\n",
       "</style>\n",
       "<table border=\"1\" class=\"dataframe\">\n",
       "  <thead>\n",
       "    <tr style=\"text-align: right;\">\n",
       "      <th></th>\n",
       "      <th>Year</th>\n",
       "      <th>Value</th>\n",
       "      <th>Date</th>\n",
       "    </tr>\n",
       "  </thead>\n",
       "  <tbody>\n",
       "    <tr>\n",
       "      <th>0</th>\n",
       "      <td>1979</td>\n",
       "      <td>0.47</td>\n",
       "      <td>1979-01-01</td>\n",
       "    </tr>\n",
       "    <tr>\n",
       "      <th>44</th>\n",
       "      <td>1979</td>\n",
       "      <td>0.27</td>\n",
       "      <td>1979-02-01</td>\n",
       "    </tr>\n",
       "    <tr>\n",
       "      <th>88</th>\n",
       "      <td>1979</td>\n",
       "      <td>-0.04</td>\n",
       "      <td>1979-03-01</td>\n",
       "    </tr>\n",
       "    <tr>\n",
       "      <th>132</th>\n",
       "      <td>1979</td>\n",
       "      <td>0.26</td>\n",
       "      <td>1979-04-01</td>\n",
       "    </tr>\n",
       "    <tr>\n",
       "      <th>176</th>\n",
       "      <td>1979</td>\n",
       "      <td>0.35</td>\n",
       "      <td>1979-05-01</td>\n",
       "    </tr>\n",
       "  </tbody>\n",
       "</table>\n",
       "</div>"
      ],
      "text/plain": [
       "     Year  Value       Date\n",
       "0    1979   0.47 1979-01-01\n",
       "44   1979   0.27 1979-02-01\n",
       "88   1979  -0.04 1979-03-01\n",
       "132  1979   0.26 1979-04-01\n",
       "176  1979   0.35 1979-05-01"
      ]
     },
     "execution_count": 112,
     "metadata": {},
     "output_type": "execute_result"
    }
   ],
   "source": [
    "meiv3.head()"
   ]
  },
  {
   "cell_type": "code",
   "execution_count": 17,
   "metadata": {},
   "outputs": [],
   "source": [
    "#merge meiv3, soi3, olr5 on Date\n",
    "\n",
    "merge = pd.merge(meiv3, soi3, on='Date', how='inner') #Se unen los dataframes\n",
    "\n",
    "merge1 = pd.merge(merge, olr5, on='Date', how='inner') #Se unen los dataframes\n",
    "\n",
    "merge1.rename(columns={'Value_x': 'MEIV','Value_y':'SOI', 'Value':'OLR'},inplace=True) #Se cambia el nombre de las columnas\n",
    "\n",
    "merge1 = merge1[['Date', 'MEIV', 'SOI', 'OLR']] #Se seleccionan las columnas de interés"
   ]
  },
  {
   "cell_type": "code",
   "execution_count": 18,
   "metadata": {},
   "outputs": [
    {
     "data": {
      "text/html": [
       "<div>\n",
       "<style scoped>\n",
       "    .dataframe tbody tr th:only-of-type {\n",
       "        vertical-align: middle;\n",
       "    }\n",
       "\n",
       "    .dataframe tbody tr th {\n",
       "        vertical-align: top;\n",
       "    }\n",
       "\n",
       "    .dataframe thead th {\n",
       "        text-align: right;\n",
       "    }\n",
       "</style>\n",
       "<table border=\"1\" class=\"dataframe\">\n",
       "  <thead>\n",
       "    <tr style=\"text-align: right;\">\n",
       "      <th></th>\n",
       "      <th>Date</th>\n",
       "      <th>MEIV</th>\n",
       "      <th>SOI</th>\n",
       "      <th>OLR</th>\n",
       "    </tr>\n",
       "  </thead>\n",
       "  <tbody>\n",
       "    <tr>\n",
       "      <th>0</th>\n",
       "      <td>1979-01-01</td>\n",
       "      <td>0.47</td>\n",
       "      <td>-0.7</td>\n",
       "      <td>23.4</td>\n",
       "    </tr>\n",
       "    <tr>\n",
       "      <th>1</th>\n",
       "      <td>1979-02-01</td>\n",
       "      <td>0.27</td>\n",
       "      <td>1.6</td>\n",
       "      <td>25.4</td>\n",
       "    </tr>\n",
       "    <tr>\n",
       "      <th>2</th>\n",
       "      <td>1979-03-01</td>\n",
       "      <td>-0.04</td>\n",
       "      <td>0.2</td>\n",
       "      <td>32.7</td>\n",
       "    </tr>\n",
       "    <tr>\n",
       "      <th>3</th>\n",
       "      <td>1979-04-01</td>\n",
       "      <td>0.26</td>\n",
       "      <td>-0.2</td>\n",
       "      <td>42.5</td>\n",
       "    </tr>\n",
       "    <tr>\n",
       "      <th>4</th>\n",
       "      <td>1979-05-01</td>\n",
       "      <td>0.35</td>\n",
       "      <td>0.8</td>\n",
       "      <td>43.3</td>\n",
       "    </tr>\n",
       "    <tr>\n",
       "      <th>...</th>\n",
       "      <td>...</td>\n",
       "      <td>...</td>\n",
       "      <td>...</td>\n",
       "      <td>...</td>\n",
       "    </tr>\n",
       "    <tr>\n",
       "      <th>523</th>\n",
       "      <td>2022-08-01</td>\n",
       "      <td>-1.79</td>\n",
       "      <td>1.7</td>\n",
       "      <td>69.6</td>\n",
       "    </tr>\n",
       "    <tr>\n",
       "      <th>524</th>\n",
       "      <td>2022-09-01</td>\n",
       "      <td>-1.76</td>\n",
       "      <td>2.7</td>\n",
       "      <td>72.3</td>\n",
       "    </tr>\n",
       "    <tr>\n",
       "      <th>525</th>\n",
       "      <td>2022-10-01</td>\n",
       "      <td>-1.71</td>\n",
       "      <td>2.8</td>\n",
       "      <td>70.9</td>\n",
       "    </tr>\n",
       "    <tr>\n",
       "      <th>526</th>\n",
       "      <td>2022-11-01</td>\n",
       "      <td>-1.48</td>\n",
       "      <td>0.5</td>\n",
       "      <td>68.1</td>\n",
       "    </tr>\n",
       "    <tr>\n",
       "      <th>527</th>\n",
       "      <td>2022-12-01</td>\n",
       "      <td>-1.25</td>\n",
       "      <td>3.5</td>\n",
       "      <td>63.3</td>\n",
       "    </tr>\n",
       "  </tbody>\n",
       "</table>\n",
       "<p>528 rows × 4 columns</p>\n",
       "</div>"
      ],
      "text/plain": [
       "          Date  MEIV   SOI   OLR\n",
       "0   1979-01-01  0.47  -0.7  23.4\n",
       "1   1979-02-01  0.27   1.6  25.4\n",
       "2   1979-03-01 -0.04   0.2  32.7\n",
       "3   1979-04-01  0.26  -0.2  42.5\n",
       "4   1979-05-01  0.35   0.8  43.3\n",
       "..         ...   ...   ...   ...\n",
       "523 2022-08-01 -1.79   1.7  69.6\n",
       "524 2022-09-01 -1.76   2.7  72.3\n",
       "525 2022-10-01 -1.71   2.8  70.9\n",
       "526 2022-11-01 -1.48   0.5  68.1\n",
       "527 2022-12-01 -1.25   3.5  63.3\n",
       "\n",
       "[528 rows x 4 columns]"
      ]
     },
     "execution_count": 18,
     "metadata": {},
     "output_type": "execute_result"
    }
   ],
   "source": [
    "merge1"
   ]
  },
  {
   "cell_type": "code",
   "execution_count": 113,
   "metadata": {},
   "outputs": [],
   "source": [
    "soi_merge = sstoi_df.reset_index() #Se resetea el index para poder unirlo con el dataframe merge1\n",
    "\n",
    "soi_merge.rename(columns={'date': 'Date'},inplace=True) #Se cambia el nombre de las columnas\n",
    "\n",
    "merge2 = pd.merge(merge1, soi_merge, on='Date', how='inner') #Se unen los dataframes"
   ]
  },
  {
   "cell_type": "code",
   "execution_count": 102,
   "metadata": {},
   "outputs": [
    {
     "data": {
      "text/html": [
       "<div>\n",
       "<style scoped>\n",
       "    .dataframe tbody tr th:only-of-type {\n",
       "        vertical-align: middle;\n",
       "    }\n",
       "\n",
       "    .dataframe tbody tr th {\n",
       "        vertical-align: top;\n",
       "    }\n",
       "\n",
       "    .dataframe thead th {\n",
       "        text-align: right;\n",
       "    }\n",
       "</style>\n",
       "<table border=\"1\" class=\"dataframe\">\n",
       "  <thead>\n",
       "    <tr style=\"text-align: right;\">\n",
       "      <th></th>\n",
       "      <th>Date</th>\n",
       "      <th>MEIV</th>\n",
       "      <th>SOI</th>\n",
       "      <th>OLR</th>\n",
       "      <th>nino1+2</th>\n",
       "      <th>anom1+2</th>\n",
       "      <th>nino3</th>\n",
       "      <th>anom3</th>\n",
       "      <th>nino4</th>\n",
       "      <th>anom4</th>\n",
       "      <th>nino3_4</th>\n",
       "      <th>anom3_4</th>\n",
       "    </tr>\n",
       "  </thead>\n",
       "  <tbody>\n",
       "    <tr>\n",
       "      <th>0</th>\n",
       "      <td>1982-01-01</td>\n",
       "      <td>-0.44</td>\n",
       "      <td>2.0</td>\n",
       "      <td>49.5</td>\n",
       "      <td>24.28</td>\n",
       "      <td>-0.24</td>\n",
       "      <td>25.84</td>\n",
       "      <td>0.17</td>\n",
       "      <td>28.01</td>\n",
       "      <td>-0.21</td>\n",
       "      <td>26.65</td>\n",
       "      <td>0.08</td>\n",
       "    </tr>\n",
       "    <tr>\n",
       "      <th>1</th>\n",
       "      <td>1982-02-01</td>\n",
       "      <td>-0.61</td>\n",
       "      <td>0.4</td>\n",
       "      <td>36.9</td>\n",
       "      <td>25.38</td>\n",
       "      <td>-0.72</td>\n",
       "      <td>26.26</td>\n",
       "      <td>-0.11</td>\n",
       "      <td>27.99</td>\n",
       "      <td>-0.11</td>\n",
       "      <td>26.54</td>\n",
       "      <td>-0.20</td>\n",
       "    </tr>\n",
       "    <tr>\n",
       "      <th>2</th>\n",
       "      <td>1982-03-01</td>\n",
       "      <td>-0.31</td>\n",
       "      <td>1.0</td>\n",
       "      <td>28.4</td>\n",
       "      <td>25.22</td>\n",
       "      <td>-1.38</td>\n",
       "      <td>26.92</td>\n",
       "      <td>-0.25</td>\n",
       "      <td>28.18</td>\n",
       "      <td>-0.05</td>\n",
       "      <td>27.09</td>\n",
       "      <td>-0.14</td>\n",
       "    </tr>\n",
       "    <tr>\n",
       "      <th>3</th>\n",
       "      <td>1982-04-01</td>\n",
       "      <td>0.13</td>\n",
       "      <td>0.1</td>\n",
       "      <td>37.1</td>\n",
       "      <td>24.57</td>\n",
       "      <td>-1.16</td>\n",
       "      <td>27.52</td>\n",
       "      <td>-0.05</td>\n",
       "      <td>28.61</td>\n",
       "      <td>0.10</td>\n",
       "      <td>27.83</td>\n",
       "      <td>0.02</td>\n",
       "    </tr>\n",
       "    <tr>\n",
       "      <th>4</th>\n",
       "      <td>1982-05-01</td>\n",
       "      <td>0.66</td>\n",
       "      <td>-0.6</td>\n",
       "      <td>49.7</td>\n",
       "      <td>24.00</td>\n",
       "      <td>-0.62</td>\n",
       "      <td>27.70</td>\n",
       "      <td>0.49</td>\n",
       "      <td>29.19</td>\n",
       "      <td>0.40</td>\n",
       "      <td>28.37</td>\n",
       "      <td>0.49</td>\n",
       "    </tr>\n",
       "    <tr>\n",
       "      <th>...</th>\n",
       "      <td>...</td>\n",
       "      <td>...</td>\n",
       "      <td>...</td>\n",
       "      <td>...</td>\n",
       "      <td>...</td>\n",
       "      <td>...</td>\n",
       "      <td>...</td>\n",
       "      <td>...</td>\n",
       "      <td>...</td>\n",
       "      <td>...</td>\n",
       "      <td>...</td>\n",
       "      <td>...</td>\n",
       "    </tr>\n",
       "    <tr>\n",
       "      <th>487</th>\n",
       "      <td>2022-08-01</td>\n",
       "      <td>-1.79</td>\n",
       "      <td>1.7</td>\n",
       "      <td>69.6</td>\n",
       "      <td>20.29</td>\n",
       "      <td>-0.57</td>\n",
       "      <td>24.69</td>\n",
       "      <td>-0.53</td>\n",
       "      <td>27.76</td>\n",
       "      <td>-0.93</td>\n",
       "      <td>25.92</td>\n",
       "      <td>-0.98</td>\n",
       "    </tr>\n",
       "    <tr>\n",
       "      <th>488</th>\n",
       "      <td>2022-09-01</td>\n",
       "      <td>-1.76</td>\n",
       "      <td>2.7</td>\n",
       "      <td>72.3</td>\n",
       "      <td>19.46</td>\n",
       "      <td>-1.12</td>\n",
       "      <td>24.21</td>\n",
       "      <td>-0.80</td>\n",
       "      <td>27.67</td>\n",
       "      <td>-1.01</td>\n",
       "      <td>25.83</td>\n",
       "      <td>-0.93</td>\n",
       "    </tr>\n",
       "    <tr>\n",
       "      <th>489</th>\n",
       "      <td>2022-10-01</td>\n",
       "      <td>-1.71</td>\n",
       "      <td>2.8</td>\n",
       "      <td>70.9</td>\n",
       "      <td>19.06</td>\n",
       "      <td>-1.81</td>\n",
       "      <td>24.17</td>\n",
       "      <td>-0.92</td>\n",
       "      <td>27.60</td>\n",
       "      <td>-1.08</td>\n",
       "      <td>25.92</td>\n",
       "      <td>-0.85</td>\n",
       "    </tr>\n",
       "    <tr>\n",
       "      <th>490</th>\n",
       "      <td>2022-11-01</td>\n",
       "      <td>-1.48</td>\n",
       "      <td>0.5</td>\n",
       "      <td>68.1</td>\n",
       "      <td>20.27</td>\n",
       "      <td>-1.36</td>\n",
       "      <td>24.31</td>\n",
       "      <td>-0.89</td>\n",
       "      <td>27.77</td>\n",
       "      <td>-0.90</td>\n",
       "      <td>25.89</td>\n",
       "      <td>-0.93</td>\n",
       "    </tr>\n",
       "    <tr>\n",
       "      <th>491</th>\n",
       "      <td>2022-12-01</td>\n",
       "      <td>-1.25</td>\n",
       "      <td>3.5</td>\n",
       "      <td>63.3</td>\n",
       "      <td>22.54</td>\n",
       "      <td>-0.30</td>\n",
       "      <td>24.48</td>\n",
       "      <td>-0.78</td>\n",
       "      <td>27.71</td>\n",
       "      <td>-0.73</td>\n",
       "      <td>25.81</td>\n",
       "      <td>-0.84</td>\n",
       "    </tr>\n",
       "  </tbody>\n",
       "</table>\n",
       "<p>492 rows × 12 columns</p>\n",
       "</div>"
      ],
      "text/plain": [
       "          Date  MEIV   SOI   OLR  nino1+2  anom1+2  nino3  anom3  nino4  \\\n",
       "0   1982-01-01 -0.44   2.0  49.5    24.28    -0.24  25.84   0.17  28.01   \n",
       "1   1982-02-01 -0.61   0.4  36.9    25.38    -0.72  26.26  -0.11  27.99   \n",
       "2   1982-03-01 -0.31   1.0  28.4    25.22    -1.38  26.92  -0.25  28.18   \n",
       "3   1982-04-01  0.13   0.1  37.1    24.57    -1.16  27.52  -0.05  28.61   \n",
       "4   1982-05-01  0.66  -0.6  49.7    24.00    -0.62  27.70   0.49  29.19   \n",
       "..         ...   ...   ...   ...      ...      ...    ...    ...    ...   \n",
       "487 2022-08-01 -1.79   1.7  69.6    20.29    -0.57  24.69  -0.53  27.76   \n",
       "488 2022-09-01 -1.76   2.7  72.3    19.46    -1.12  24.21  -0.80  27.67   \n",
       "489 2022-10-01 -1.71   2.8  70.9    19.06    -1.81  24.17  -0.92  27.60   \n",
       "490 2022-11-01 -1.48   0.5  68.1    20.27    -1.36  24.31  -0.89  27.77   \n",
       "491 2022-12-01 -1.25   3.5  63.3    22.54    -0.30  24.48  -0.78  27.71   \n",
       "\n",
       "     anom4  nino3_4  anom3_4  \n",
       "0    -0.21    26.65     0.08  \n",
       "1    -0.11    26.54    -0.20  \n",
       "2    -0.05    27.09    -0.14  \n",
       "3     0.10    27.83     0.02  \n",
       "4     0.40    28.37     0.49  \n",
       "..     ...      ...      ...  \n",
       "487  -0.93    25.92    -0.98  \n",
       "488  -1.01    25.83    -0.93  \n",
       "489  -1.08    25.92    -0.85  \n",
       "490  -0.90    25.89    -0.93  \n",
       "491  -0.73    25.81    -0.84  \n",
       "\n",
       "[492 rows x 12 columns]"
      ]
     },
     "execution_count": 102,
     "metadata": {},
     "output_type": "execute_result"
    }
   ],
   "source": [
    "merge2"
   ]
  },
  {
   "attachments": {},
   "cell_type": "markdown",
   "metadata": {},
   "source": [
    "### comenzamos a probar mapper con diferentes parametros para ver que podemos obtener"
   ]
  },
  {
   "cell_type": "code",
   "execution_count": 32,
   "metadata": {},
   "outputs": [],
   "source": [
    "import kmapper as km\n",
    "from kmapper.jupyter import display\n",
    "import sklearn"
   ]
  },
  {
   "cell_type": "code",
   "execution_count": 34,
   "metadata": {},
   "outputs": [],
   "source": [
    "import kmapper as km\n",
    "from kmapper import Cover, jupyter\n",
    "import numpy as np\n",
    "\n",
    "from sklearn.datasets import fetch_20newsgroups\n",
    "from sklearn.cluster import AgglomerativeClustering\n",
    "from sklearn.feature_extraction.text import TfidfVectorizer\n",
    "from sklearn.decomposition import TruncatedSVD\n",
    "from sklearn.manifold import Isomap\n",
    "from sklearn.preprocessing import MinMaxScaler"
   ]
  },
  {
   "cell_type": "code",
   "execution_count": 115,
   "metadata": {},
   "outputs": [],
   "source": [
    "#take the column date and create a new column with month\n",
    "merge2['Month'] = merge2['Date'].dt.month"
   ]
  },
  {
   "cell_type": "code",
   "execution_count": 112,
   "metadata": {},
   "outputs": [
    {
     "ename": "SyntaxError",
     "evalue": "unexpected EOF while parsing (1781261522.py, line 10)",
     "output_type": "error",
     "traceback": [
      "\u001b[1;36m  Cell \u001b[1;32mIn [112], line 10\u001b[1;36m\u001b[0m\n\u001b[1;33m    merge2[['Month', 'MEIV', 'SOI', 'OLR', 'nino1+2', 'anom1+2', 'nino3', 'anom3', 'nino4', 'anom4', 'nino3_4', 'anom3_4']] = scaler.fit_transform(merge2[['Month', 'MEIV', 'SOI',\u001b[0m\n\u001b[1;37m                                                                                                                                                                                  ^\u001b[0m\n\u001b[1;31mSyntaxError\u001b[0m\u001b[1;31m:\u001b[0m unexpected EOF while parsing\n"
     ]
    }
   ],
   "source": [
    "from sklearn.preprocessing import StandardScaler\n",
    "\n",
    "scaler = StandardScaler()\n",
    "merge2[['Month', 'MEIV', 'SOI', 'OLR', 'nino1+2', 'anom1+2', 'nino3', 'anom3', 'nino4', 'anom4', 'nino3_4', 'anom3_4']] = scaler.fit_transform(merge2[['Month', 'MEIV', 'SOI', \n",
    "'OLR', 'nino1+2', 'anom1+2', 'nino3', 'anom3', 'nino4', 'anom4', 'nino3_4', 'anom3_4']]) #Se normalizan los datos"
   ]
  },
  {
   "cell_type": "code",
   "execution_count": 116,
   "metadata": {},
   "outputs": [],
   "source": [
    "#Apply MinMacScaler to the data\n",
    "\n",
    "scaler = MinMaxScaler()\n",
    "merge2[['Month', 'MEIV', 'SOI', 'OLR', 'nino1+2', 'anom1+2', 'nino3', 'anom3', 'nino4', 'anom4', 'nino3_4', 'anom3_4']] = scaler.fit_transform(merge2[['Month', 'MEIV', 'SOI',\n",
    "'OLR', 'nino1+2', 'anom1+2', 'nino3', 'anom3', 'nino4', 'anom4', 'nino3_4', 'anom3_4']]) #Se escalan los datos"
   ]
  },
  {
   "cell_type": "code",
   "execution_count": 153,
   "metadata": {},
   "outputs": [
    {
     "data": {
      "text/html": [
       "<div>\n",
       "<style scoped>\n",
       "    .dataframe tbody tr th:only-of-type {\n",
       "        vertical-align: middle;\n",
       "    }\n",
       "\n",
       "    .dataframe tbody tr th {\n",
       "        vertical-align: top;\n",
       "    }\n",
       "\n",
       "    .dataframe thead th {\n",
       "        text-align: right;\n",
       "    }\n",
       "</style>\n",
       "<table border=\"1\" class=\"dataframe\">\n",
       "  <thead>\n",
       "    <tr style=\"text-align: right;\">\n",
       "      <th></th>\n",
       "      <th>Date</th>\n",
       "      <th>MEIV</th>\n",
       "      <th>SOI</th>\n",
       "      <th>OLR</th>\n",
       "      <th>nino1+2</th>\n",
       "      <th>anom1+2</th>\n",
       "      <th>nino3</th>\n",
       "      <th>anom3</th>\n",
       "      <th>nino4</th>\n",
       "      <th>anom4</th>\n",
       "      <th>nino3_4</th>\n",
       "      <th>anom3_4</th>\n",
       "      <th>Month</th>\n",
       "    </tr>\n",
       "  </thead>\n",
       "  <tbody>\n",
       "    <tr>\n",
       "      <th>0</th>\n",
       "      <td>1982-01-01</td>\n",
       "      <td>0.387283</td>\n",
       "      <td>0.740741</td>\n",
       "      <td>0.695438</td>\n",
       "      <td>0.552381</td>\n",
       "      <td>0.279933</td>\n",
       "      <td>0.453039</td>\n",
       "      <td>0.445507</td>\n",
       "      <td>0.427461</td>\n",
       "      <td>0.485380</td>\n",
       "      <td>0.419679</td>\n",
       "      <td>0.465587</td>\n",
       "      <td>0.000000</td>\n",
       "    </tr>\n",
       "    <tr>\n",
       "      <th>1</th>\n",
       "      <td>1982-02-01</td>\n",
       "      <td>0.354528</td>\n",
       "      <td>0.592593</td>\n",
       "      <td>0.540074</td>\n",
       "      <td>0.668783</td>\n",
       "      <td>0.198988</td>\n",
       "      <td>0.530387</td>\n",
       "      <td>0.391969</td>\n",
       "      <td>0.422280</td>\n",
       "      <td>0.514620</td>\n",
       "      <td>0.397590</td>\n",
       "      <td>0.408907</td>\n",
       "      <td>0.090909</td>\n",
       "    </tr>\n",
       "    <tr>\n",
       "      <th>2</th>\n",
       "      <td>1982-03-01</td>\n",
       "      <td>0.412331</td>\n",
       "      <td>0.648148</td>\n",
       "      <td>0.435265</td>\n",
       "      <td>0.651852</td>\n",
       "      <td>0.087690</td>\n",
       "      <td>0.651934</td>\n",
       "      <td>0.365201</td>\n",
       "      <td>0.471503</td>\n",
       "      <td>0.532164</td>\n",
       "      <td>0.508032</td>\n",
       "      <td>0.421053</td>\n",
       "      <td>0.181818</td>\n",
       "    </tr>\n",
       "    <tr>\n",
       "      <th>3</th>\n",
       "      <td>1982-04-01</td>\n",
       "      <td>0.497110</td>\n",
       "      <td>0.564815</td>\n",
       "      <td>0.542540</td>\n",
       "      <td>0.583069</td>\n",
       "      <td>0.124789</td>\n",
       "      <td>0.762431</td>\n",
       "      <td>0.403442</td>\n",
       "      <td>0.582902</td>\n",
       "      <td>0.576023</td>\n",
       "      <td>0.656627</td>\n",
       "      <td>0.453441</td>\n",
       "      <td>0.272727</td>\n",
       "    </tr>\n",
       "    <tr>\n",
       "      <th>4</th>\n",
       "      <td>1982-05-01</td>\n",
       "      <td>0.599229</td>\n",
       "      <td>0.500000</td>\n",
       "      <td>0.697904</td>\n",
       "      <td>0.522751</td>\n",
       "      <td>0.215852</td>\n",
       "      <td>0.795580</td>\n",
       "      <td>0.506692</td>\n",
       "      <td>0.733161</td>\n",
       "      <td>0.663743</td>\n",
       "      <td>0.765060</td>\n",
       "      <td>0.548583</td>\n",
       "      <td>0.363636</td>\n",
       "    </tr>\n",
       "    <tr>\n",
       "      <th>...</th>\n",
       "      <td>...</td>\n",
       "      <td>...</td>\n",
       "      <td>...</td>\n",
       "      <td>...</td>\n",
       "      <td>...</td>\n",
       "      <td>...</td>\n",
       "      <td>...</td>\n",
       "      <td>...</td>\n",
       "      <td>...</td>\n",
       "      <td>...</td>\n",
       "      <td>...</td>\n",
       "      <td>...</td>\n",
       "      <td>...</td>\n",
       "    </tr>\n",
       "    <tr>\n",
       "      <th>487</th>\n",
       "      <td>2022-08-01</td>\n",
       "      <td>0.127168</td>\n",
       "      <td>0.712963</td>\n",
       "      <td>0.943280</td>\n",
       "      <td>0.130159</td>\n",
       "      <td>0.224283</td>\n",
       "      <td>0.241252</td>\n",
       "      <td>0.311663</td>\n",
       "      <td>0.362694</td>\n",
       "      <td>0.274854</td>\n",
       "      <td>0.273092</td>\n",
       "      <td>0.251012</td>\n",
       "      <td>0.636364</td>\n",
       "    </tr>\n",
       "    <tr>\n",
       "      <th>488</th>\n",
       "      <td>2022-09-01</td>\n",
       "      <td>0.132948</td>\n",
       "      <td>0.805556</td>\n",
       "      <td>0.976572</td>\n",
       "      <td>0.042328</td>\n",
       "      <td>0.131535</td>\n",
       "      <td>0.152855</td>\n",
       "      <td>0.260038</td>\n",
       "      <td>0.339378</td>\n",
       "      <td>0.251462</td>\n",
       "      <td>0.255020</td>\n",
       "      <td>0.261134</td>\n",
       "      <td>0.727273</td>\n",
       "    </tr>\n",
       "    <tr>\n",
       "      <th>489</th>\n",
       "      <td>2022-10-01</td>\n",
       "      <td>0.142582</td>\n",
       "      <td>0.814815</td>\n",
       "      <td>0.959309</td>\n",
       "      <td>0.000000</td>\n",
       "      <td>0.015177</td>\n",
       "      <td>0.145488</td>\n",
       "      <td>0.237094</td>\n",
       "      <td>0.321244</td>\n",
       "      <td>0.230994</td>\n",
       "      <td>0.273092</td>\n",
       "      <td>0.277328</td>\n",
       "      <td>0.818182</td>\n",
       "    </tr>\n",
       "    <tr>\n",
       "      <th>490</th>\n",
       "      <td>2022-11-01</td>\n",
       "      <td>0.186898</td>\n",
       "      <td>0.601852</td>\n",
       "      <td>0.924784</td>\n",
       "      <td>0.128042</td>\n",
       "      <td>0.091062</td>\n",
       "      <td>0.171271</td>\n",
       "      <td>0.242830</td>\n",
       "      <td>0.365285</td>\n",
       "      <td>0.283626</td>\n",
       "      <td>0.267068</td>\n",
       "      <td>0.261134</td>\n",
       "      <td>0.909091</td>\n",
       "    </tr>\n",
       "    <tr>\n",
       "      <th>491</th>\n",
       "      <td>2022-12-01</td>\n",
       "      <td>0.231214</td>\n",
       "      <td>0.879630</td>\n",
       "      <td>0.865598</td>\n",
       "      <td>0.368254</td>\n",
       "      <td>0.269815</td>\n",
       "      <td>0.202578</td>\n",
       "      <td>0.263862</td>\n",
       "      <td>0.349741</td>\n",
       "      <td>0.333333</td>\n",
       "      <td>0.251004</td>\n",
       "      <td>0.279352</td>\n",
       "      <td>1.000000</td>\n",
       "    </tr>\n",
       "  </tbody>\n",
       "</table>\n",
       "<p>492 rows × 13 columns</p>\n",
       "</div>"
      ],
      "text/plain": [
       "          Date      MEIV       SOI       OLR   nino1+2   anom1+2     nino3  \\\n",
       "0   1982-01-01  0.387283  0.740741  0.695438  0.552381  0.279933  0.453039   \n",
       "1   1982-02-01  0.354528  0.592593  0.540074  0.668783  0.198988  0.530387   \n",
       "2   1982-03-01  0.412331  0.648148  0.435265  0.651852  0.087690  0.651934   \n",
       "3   1982-04-01  0.497110  0.564815  0.542540  0.583069  0.124789  0.762431   \n",
       "4   1982-05-01  0.599229  0.500000  0.697904  0.522751  0.215852  0.795580   \n",
       "..         ...       ...       ...       ...       ...       ...       ...   \n",
       "487 2022-08-01  0.127168  0.712963  0.943280  0.130159  0.224283  0.241252   \n",
       "488 2022-09-01  0.132948  0.805556  0.976572  0.042328  0.131535  0.152855   \n",
       "489 2022-10-01  0.142582  0.814815  0.959309  0.000000  0.015177  0.145488   \n",
       "490 2022-11-01  0.186898  0.601852  0.924784  0.128042  0.091062  0.171271   \n",
       "491 2022-12-01  0.231214  0.879630  0.865598  0.368254  0.269815  0.202578   \n",
       "\n",
       "        anom3     nino4     anom4   nino3_4   anom3_4     Month  \n",
       "0    0.445507  0.427461  0.485380  0.419679  0.465587  0.000000  \n",
       "1    0.391969  0.422280  0.514620  0.397590  0.408907  0.090909  \n",
       "2    0.365201  0.471503  0.532164  0.508032  0.421053  0.181818  \n",
       "3    0.403442  0.582902  0.576023  0.656627  0.453441  0.272727  \n",
       "4    0.506692  0.733161  0.663743  0.765060  0.548583  0.363636  \n",
       "..        ...       ...       ...       ...       ...       ...  \n",
       "487  0.311663  0.362694  0.274854  0.273092  0.251012  0.636364  \n",
       "488  0.260038  0.339378  0.251462  0.255020  0.261134  0.727273  \n",
       "489  0.237094  0.321244  0.230994  0.273092  0.277328  0.818182  \n",
       "490  0.242830  0.365285  0.283626  0.267068  0.261134  0.909091  \n",
       "491  0.263862  0.349741  0.333333  0.251004  0.279352  1.000000  \n",
       "\n",
       "[492 rows x 13 columns]"
      ]
     },
     "execution_count": 153,
     "metadata": {},
     "output_type": "execute_result"
    }
   ],
   "source": [
    "merge2"
   ]
  },
  {
   "attachments": {},
   "cell_type": "markdown",
   "metadata": {},
   "source": [
    "#### primero usaremos nino1+2"
   ]
  },
  {
   "cell_type": "code",
   "execution_count": 179,
   "metadata": {},
   "outputs": [],
   "source": [
    "merge3 = merge2[['MEIV', 'SOI', 'OLR', 'nino3_4', 'anom3_4','Month']] #Se seleccionan las columnas de interés"
   ]
  },
  {
   "cell_type": "code",
   "execution_count": 180,
   "metadata": {},
   "outputs": [],
   "source": [
    "data = merge3.to_numpy() #Se convierte el dataframe en un array\n",
    "\n",
    "#convert all columns to numeric\n",
    "data = data.astype(float)"
   ]
  },
  {
   "cell_type": "code",
   "execution_count": null,
   "metadata": {},
   "outputs": [],
   "source": [
    "from sklearn import cluster"
   ]
  },
  {
   "attachments": {},
   "cell_type": "markdown",
   "metadata": {},
   "source": [
    "#### keppler mapper"
   ]
  },
  {
   "cell_type": "code",
   "execution_count": 181,
   "metadata": {},
   "outputs": [],
   "source": [
    "mapper = km.KeplerMapper()\n",
    "projected_data = mapper.fit_transform(data, projection=[4])\n",
    "\n",
    "covering=km.Cover(n_cubes=5,perc_overlap=0.33)"
   ]
  },
  {
   "cell_type": "code",
   "execution_count": 182,
   "metadata": {},
   "outputs": [
    {
     "name": "stderr",
     "output_type": "stream",
     "text": [
      "c:\\Users\\Alfre\\anaconda3\\lib\\site-packages\\sklearn\\cluster\\_kmeans.py:870: FutureWarning: The default value of `n_init` will change from 10 to 'auto' in 1.4. Set the value of `n_init` explicitly to suppress the warning\n",
      "  warnings.warn(\n",
      "c:\\Users\\Alfre\\anaconda3\\lib\\site-packages\\sklearn\\cluster\\_kmeans.py:1382: UserWarning: KMeans is known to have a memory leak on Windows with MKL, when there are less chunks than available threads. You can avoid it by setting the environment variable OMP_NUM_THREADS=1.\n",
      "  warnings.warn(\n",
      "c:\\Users\\Alfre\\anaconda3\\lib\\site-packages\\sklearn\\cluster\\_kmeans.py:870: FutureWarning: The default value of `n_init` will change from 10 to 'auto' in 1.4. Set the value of `n_init` explicitly to suppress the warning\n",
      "  warnings.warn(\n",
      "c:\\Users\\Alfre\\anaconda3\\lib\\site-packages\\sklearn\\cluster\\_kmeans.py:1382: UserWarning: KMeans is known to have a memory leak on Windows with MKL, when there are less chunks than available threads. You can avoid it by setting the environment variable OMP_NUM_THREADS=2.\n",
      "  warnings.warn(\n",
      "c:\\Users\\Alfre\\anaconda3\\lib\\site-packages\\sklearn\\cluster\\_kmeans.py:870: FutureWarning: The default value of `n_init` will change from 10 to 'auto' in 1.4. Set the value of `n_init` explicitly to suppress the warning\n",
      "  warnings.warn(\n",
      "c:\\Users\\Alfre\\anaconda3\\lib\\site-packages\\sklearn\\cluster\\_kmeans.py:1382: UserWarning: KMeans is known to have a memory leak on Windows with MKL, when there are less chunks than available threads. You can avoid it by setting the environment variable OMP_NUM_THREADS=2.\n",
      "  warnings.warn(\n",
      "c:\\Users\\Alfre\\anaconda3\\lib\\site-packages\\sklearn\\cluster\\_kmeans.py:870: FutureWarning: The default value of `n_init` will change from 10 to 'auto' in 1.4. Set the value of `n_init` explicitly to suppress the warning\n",
      "  warnings.warn(\n",
      "c:\\Users\\Alfre\\anaconda3\\lib\\site-packages\\sklearn\\cluster\\_kmeans.py:1382: UserWarning: KMeans is known to have a memory leak on Windows with MKL, when there are less chunks than available threads. You can avoid it by setting the environment variable OMP_NUM_THREADS=1.\n",
      "  warnings.warn(\n",
      "c:\\Users\\Alfre\\anaconda3\\lib\\site-packages\\sklearn\\cluster\\_kmeans.py:870: FutureWarning: The default value of `n_init` will change from 10 to 'auto' in 1.4. Set the value of `n_init` explicitly to suppress the warning\n",
      "  warnings.warn(\n",
      "c:\\Users\\Alfre\\anaconda3\\lib\\site-packages\\sklearn\\cluster\\_kmeans.py:1382: UserWarning: KMeans is known to have a memory leak on Windows with MKL, when there are less chunks than available threads. You can avoid it by setting the environment variable OMP_NUM_THREADS=1.\n",
      "  warnings.warn(\n"
     ]
    }
   ],
   "source": [
    "G = mapper.map(projected_data, data, sklearn.cluster.KMeans(n_clusters=3),cover=covering)"
   ]
  },
  {
   "cell_type": "code",
   "execution_count": 183,
   "metadata": {},
   "outputs": [
    {
     "name": "stderr",
     "output_type": "stream",
     "text": [
      "c:\\Users\\Alfre\\anaconda3\\lib\\site-packages\\sklearn\\cluster\\_agglomerative.py:983: FutureWarning: Attribute `affinity` was deprecated in version 1.2 and will be removed in 1.4. Use `metric` instead\n",
      "  warnings.warn(\n",
      "c:\\Users\\Alfre\\anaconda3\\lib\\site-packages\\sklearn\\cluster\\_agglomerative.py:983: FutureWarning: Attribute `affinity` was deprecated in version 1.2 and will be removed in 1.4. Use `metric` instead\n",
      "  warnings.warn(\n",
      "c:\\Users\\Alfre\\anaconda3\\lib\\site-packages\\sklearn\\cluster\\_agglomerative.py:983: FutureWarning: Attribute `affinity` was deprecated in version 1.2 and will be removed in 1.4. Use `metric` instead\n",
      "  warnings.warn(\n",
      "c:\\Users\\Alfre\\anaconda3\\lib\\site-packages\\sklearn\\cluster\\_agglomerative.py:983: FutureWarning: Attribute `affinity` was deprecated in version 1.2 and will be removed in 1.4. Use `metric` instead\n",
      "  warnings.warn(\n",
      "c:\\Users\\Alfre\\anaconda3\\lib\\site-packages\\sklearn\\cluster\\_agglomerative.py:983: FutureWarning: Attribute `affinity` was deprecated in version 1.2 and will be removed in 1.4. Use `metric` instead\n",
      "  warnings.warn(\n"
     ]
    }
   ],
   "source": [
    "from sklearn.cluster import AgglomerativeClustering\n",
    "G = mapper.map(projected_data, data, clusterer=AgglomerativeClustering(n_clusters=3, linkage=\"complete\", affinity=\"cosine\"), cover=covering)"
   ]
  },
  {
   "cell_type": "code",
   "execution_count": 185,
   "metadata": {},
   "outputs": [],
   "source": [
    "from sklearn.cluster import DBSCAN\n",
    "G = mapper.map(projected_data, data, clusterer=DBSCAN(eps=0.5, min_samples=5), cover=covering)"
   ]
  },
  {
   "cell_type": "code",
   "execution_count": 187,
   "metadata": {},
   "outputs": [
    {
     "name": "stderr",
     "output_type": "stream",
     "text": [
      "c:\\Users\\Alfre\\anaconda3\\lib\\site-packages\\sklearn\\cluster\\_kmeans.py:1382: UserWarning: KMeans is known to have a memory leak on Windows with MKL, when there are less chunks than available threads. You can avoid it by setting the environment variable OMP_NUM_THREADS=1.\n",
      "  warnings.warn(\n",
      "c:\\Users\\Alfre\\anaconda3\\lib\\site-packages\\sklearn\\cluster\\_kmeans.py:1382: UserWarning: KMeans is known to have a memory leak on Windows with MKL, when there are less chunks than available threads. You can avoid it by setting the environment variable OMP_NUM_THREADS=2.\n",
      "  warnings.warn(\n",
      "c:\\Users\\Alfre\\anaconda3\\lib\\site-packages\\sklearn\\cluster\\_kmeans.py:1382: UserWarning: KMeans is known to have a memory leak on Windows with MKL, when there are less chunks than available threads. You can avoid it by setting the environment variable OMP_NUM_THREADS=2.\n",
      "  warnings.warn(\n",
      "c:\\Users\\Alfre\\anaconda3\\lib\\site-packages\\sklearn\\cluster\\_kmeans.py:1382: UserWarning: KMeans is known to have a memory leak on Windows with MKL, when there are less chunks than available threads. You can avoid it by setting the environment variable OMP_NUM_THREADS=1.\n",
      "  warnings.warn(\n",
      "c:\\Users\\Alfre\\anaconda3\\lib\\site-packages\\sklearn\\cluster\\_kmeans.py:1382: UserWarning: KMeans is known to have a memory leak on Windows with MKL, when there are less chunks than available threads. You can avoid it by setting the environment variable OMP_NUM_THREADS=1.\n",
      "  warnings.warn(\n"
     ]
    }
   ],
   "source": [
    "from sklearn.cluster import SpectralClustering\n",
    "G = mapper.map(projected_data, data, clusterer=SpectralClustering(n_clusters=3), cover=covering)"
   ]
  },
  {
   "cell_type": "code",
   "execution_count": 189,
   "metadata": {},
   "outputs": [],
   "source": [
    "from sklearn.cluster import MeanShift\n",
    "G = mapper.map(projected_data, data, clusterer=MeanShift(), cover=covering)"
   ]
  },
  {
   "cell_type": "code",
   "execution_count": 190,
   "metadata": {},
   "outputs": [
    {
     "name": "stderr",
     "output_type": "stream",
     "text": [
      "c:\\Users\\Alfre\\anaconda3\\lib\\site-packages\\kmapper\\visuals.py:344: RuntimeWarning: invalid value encountered in longlong_scalars\n",
      "  height = np.floor(((bar / max_bucket_value) * 100) + 0.5)\n",
      "c:\\Users\\Alfre\\anaconda3\\lib\\site-packages\\kmapper\\visuals.py:345: RuntimeWarning: invalid value encountered in longlong_scalars\n",
      "  perc = round((bar / sum_bucket_value) * 100.0, 1)\n"
     ]
    },
    {
     "data": {
      "text/html": [
       "<style>\n",
       "        .container { width:100% !important; }\n",
       "        .output_scroll {height: 800px !important;}\n",
       "        </style>"
      ],
      "text/plain": [
       "<IPython.core.display.HTML object>"
      ]
     },
     "metadata": {},
     "output_type": "display_data"
    },
    {
     "name": "stderr",
     "output_type": "stream",
     "text": [
      "C:\\Users\\Alfre\\AppData\\Roaming\\Python\\Python39\\site-packages\\IPython\\core\\display.py:431: UserWarning: Consider using IPython.display.IFrame instead\n",
      "  warnings.warn(\"Consider using IPython.display.IFrame instead\")\n"
     ]
    },
    {
     "data": {
      "text/html": [
       "<iframe src=mapper_reto_nino1_2.html width=100%% height=800 frameBorder=\"0\"></iframe>"
      ],
      "text/plain": [
       "<IPython.core.display.HTML object>"
      ]
     },
     "metadata": {},
     "output_type": "display_data"
    }
   ],
   "source": [
    "mapper.visualize(G, \n",
    "                title='Mapper',\n",
    "                color_values = merge3['nino3_4'].to_numpy(),\n",
    "                color_function_name = 'Mean',\n",
    "                node_color_function=np.array(['average','std','sum','max','min']))\n",
    "\n",
    "km.jupyter.display(\"mapper_reto_nino1_2.html\")"
   ]
  },
  {
   "attachments": {},
   "cell_type": "markdown",
   "metadata": {},
   "source": [
    "#### umap"
   ]
  },
  {
   "cell_type": "code",
   "execution_count": 191,
   "metadata": {},
   "outputs": [],
   "source": [
    "umap_transformer = umap.UMAP(n_neighbors=3, n_components=2, random_state=42)\n",
    "projected_data = umap_transformer.fit_transform(data)\n",
    "\n",
    "covering=km.Cover(n_cubes=3,perc_overlap=0.33)"
   ]
  },
  {
   "cell_type": "code",
   "execution_count": 192,
   "metadata": {},
   "outputs": [
    {
     "name": "stderr",
     "output_type": "stream",
     "text": [
      "c:\\Users\\Alfre\\anaconda3\\lib\\site-packages\\sklearn\\cluster\\_kmeans.py:870: FutureWarning: The default value of `n_init` will change from 10 to 'auto' in 1.4. Set the value of `n_init` explicitly to suppress the warning\n",
      "  warnings.warn(\n",
      "c:\\Users\\Alfre\\anaconda3\\lib\\site-packages\\sklearn\\cluster\\_kmeans.py:1382: UserWarning: KMeans is known to have a memory leak on Windows with MKL, when there are less chunks than available threads. You can avoid it by setting the environment variable OMP_NUM_THREADS=1.\n",
      "  warnings.warn(\n",
      "c:\\Users\\Alfre\\anaconda3\\lib\\site-packages\\sklearn\\cluster\\_kmeans.py:870: FutureWarning: The default value of `n_init` will change from 10 to 'auto' in 1.4. Set the value of `n_init` explicitly to suppress the warning\n",
      "  warnings.warn(\n",
      "c:\\Users\\Alfre\\anaconda3\\lib\\site-packages\\sklearn\\cluster\\_kmeans.py:1382: UserWarning: KMeans is known to have a memory leak on Windows with MKL, when there are less chunks than available threads. You can avoid it by setting the environment variable OMP_NUM_THREADS=1.\n",
      "  warnings.warn(\n",
      "c:\\Users\\Alfre\\anaconda3\\lib\\site-packages\\sklearn\\cluster\\_kmeans.py:870: FutureWarning: The default value of `n_init` will change from 10 to 'auto' in 1.4. Set the value of `n_init` explicitly to suppress the warning\n",
      "  warnings.warn(\n",
      "c:\\Users\\Alfre\\anaconda3\\lib\\site-packages\\sklearn\\cluster\\_kmeans.py:1382: UserWarning: KMeans is known to have a memory leak on Windows with MKL, when there are less chunks than available threads. You can avoid it by setting the environment variable OMP_NUM_THREADS=1.\n",
      "  warnings.warn(\n",
      "c:\\Users\\Alfre\\anaconda3\\lib\\site-packages\\sklearn\\cluster\\_kmeans.py:870: FutureWarning: The default value of `n_init` will change from 10 to 'auto' in 1.4. Set the value of `n_init` explicitly to suppress the warning\n",
      "  warnings.warn(\n",
      "c:\\Users\\Alfre\\anaconda3\\lib\\site-packages\\sklearn\\cluster\\_kmeans.py:1382: UserWarning: KMeans is known to have a memory leak on Windows with MKL, when there are less chunks than available threads. You can avoid it by setting the environment variable OMP_NUM_THREADS=1.\n",
      "  warnings.warn(\n",
      "c:\\Users\\Alfre\\anaconda3\\lib\\site-packages\\sklearn\\cluster\\_kmeans.py:870: FutureWarning: The default value of `n_init` will change from 10 to 'auto' in 1.4. Set the value of `n_init` explicitly to suppress the warning\n",
      "  warnings.warn(\n",
      "c:\\Users\\Alfre\\anaconda3\\lib\\site-packages\\sklearn\\cluster\\_kmeans.py:1382: UserWarning: KMeans is known to have a memory leak on Windows with MKL, when there are less chunks than available threads. You can avoid it by setting the environment variable OMP_NUM_THREADS=1.\n",
      "  warnings.warn(\n",
      "c:\\Users\\Alfre\\anaconda3\\lib\\site-packages\\sklearn\\cluster\\_kmeans.py:870: FutureWarning: The default value of `n_init` will change from 10 to 'auto' in 1.4. Set the value of `n_init` explicitly to suppress the warning\n",
      "  warnings.warn(\n",
      "c:\\Users\\Alfre\\anaconda3\\lib\\site-packages\\sklearn\\cluster\\_kmeans.py:1382: UserWarning: KMeans is known to have a memory leak on Windows with MKL, when there are less chunks than available threads. You can avoid it by setting the environment variable OMP_NUM_THREADS=1.\n",
      "  warnings.warn(\n",
      "c:\\Users\\Alfre\\anaconda3\\lib\\site-packages\\sklearn\\cluster\\_kmeans.py:870: FutureWarning: The default value of `n_init` will change from 10 to 'auto' in 1.4. Set the value of `n_init` explicitly to suppress the warning\n",
      "  warnings.warn(\n",
      "c:\\Users\\Alfre\\anaconda3\\lib\\site-packages\\sklearn\\cluster\\_kmeans.py:1382: UserWarning: KMeans is known to have a memory leak on Windows with MKL, when there are less chunks than available threads. You can avoid it by setting the environment variable OMP_NUM_THREADS=1.\n",
      "  warnings.warn(\n",
      "c:\\Users\\Alfre\\anaconda3\\lib\\site-packages\\sklearn\\cluster\\_kmeans.py:870: FutureWarning: The default value of `n_init` will change from 10 to 'auto' in 1.4. Set the value of `n_init` explicitly to suppress the warning\n",
      "  warnings.warn(\n",
      "c:\\Users\\Alfre\\anaconda3\\lib\\site-packages\\sklearn\\cluster\\_kmeans.py:1382: UserWarning: KMeans is known to have a memory leak on Windows with MKL, when there are less chunks than available threads. You can avoid it by setting the environment variable OMP_NUM_THREADS=1.\n",
      "  warnings.warn(\n",
      "c:\\Users\\Alfre\\anaconda3\\lib\\site-packages\\sklearn\\cluster\\_kmeans.py:870: FutureWarning: The default value of `n_init` will change from 10 to 'auto' in 1.4. Set the value of `n_init` explicitly to suppress the warning\n",
      "  warnings.warn(\n",
      "c:\\Users\\Alfre\\anaconda3\\lib\\site-packages\\sklearn\\cluster\\_kmeans.py:1382: UserWarning: KMeans is known to have a memory leak on Windows with MKL, when there are less chunks than available threads. You can avoid it by setting the environment variable OMP_NUM_THREADS=1.\n",
      "  warnings.warn(\n"
     ]
    }
   ],
   "source": [
    "G = mapper.map(projected_data, data, sklearn.cluster.KMeans(n_clusters=3),cover=covering)"
   ]
  },
  {
   "cell_type": "code",
   "execution_count": 194,
   "metadata": {},
   "outputs": [
    {
     "name": "stderr",
     "output_type": "stream",
     "text": [
      "c:\\Users\\Alfre\\anaconda3\\lib\\site-packages\\sklearn\\cluster\\_agglomerative.py:983: FutureWarning: Attribute `affinity` was deprecated in version 1.2 and will be removed in 1.4. Use `metric` instead\n",
      "  warnings.warn(\n",
      "c:\\Users\\Alfre\\anaconda3\\lib\\site-packages\\sklearn\\cluster\\_agglomerative.py:983: FutureWarning: Attribute `affinity` was deprecated in version 1.2 and will be removed in 1.4. Use `metric` instead\n",
      "  warnings.warn(\n",
      "c:\\Users\\Alfre\\anaconda3\\lib\\site-packages\\sklearn\\cluster\\_agglomerative.py:983: FutureWarning: Attribute `affinity` was deprecated in version 1.2 and will be removed in 1.4. Use `metric` instead\n",
      "  warnings.warn(\n",
      "c:\\Users\\Alfre\\anaconda3\\lib\\site-packages\\sklearn\\cluster\\_agglomerative.py:983: FutureWarning: Attribute `affinity` was deprecated in version 1.2 and will be removed in 1.4. Use `metric` instead\n",
      "  warnings.warn(\n",
      "c:\\Users\\Alfre\\anaconda3\\lib\\site-packages\\sklearn\\cluster\\_agglomerative.py:983: FutureWarning: Attribute `affinity` was deprecated in version 1.2 and will be removed in 1.4. Use `metric` instead\n",
      "  warnings.warn(\n",
      "c:\\Users\\Alfre\\anaconda3\\lib\\site-packages\\sklearn\\cluster\\_agglomerative.py:983: FutureWarning: Attribute `affinity` was deprecated in version 1.2 and will be removed in 1.4. Use `metric` instead\n",
      "  warnings.warn(\n",
      "c:\\Users\\Alfre\\anaconda3\\lib\\site-packages\\sklearn\\cluster\\_agglomerative.py:983: FutureWarning: Attribute `affinity` was deprecated in version 1.2 and will be removed in 1.4. Use `metric` instead\n",
      "  warnings.warn(\n",
      "c:\\Users\\Alfre\\anaconda3\\lib\\site-packages\\sklearn\\cluster\\_agglomerative.py:983: FutureWarning: Attribute `affinity` was deprecated in version 1.2 and will be removed in 1.4. Use `metric` instead\n",
      "  warnings.warn(\n",
      "c:\\Users\\Alfre\\anaconda3\\lib\\site-packages\\sklearn\\cluster\\_agglomerative.py:983: FutureWarning: Attribute `affinity` was deprecated in version 1.2 and will be removed in 1.4. Use `metric` instead\n",
      "  warnings.warn(\n"
     ]
    }
   ],
   "source": [
    "from sklearn.cluster import AgglomerativeClustering\n",
    "G = mapper.map(projected_data, data, clusterer=AgglomerativeClustering(n_clusters=3, linkage=\"complete\", affinity=\"cosine\"), cover=covering)"
   ]
  },
  {
   "cell_type": "code",
   "execution_count": 196,
   "metadata": {},
   "outputs": [],
   "source": [
    "from sklearn.cluster import DBSCAN\n",
    "G = mapper.map(projected_data, data, clusterer=DBSCAN(eps=0.5, min_samples=5), cover=covering)"
   ]
  },
  {
   "cell_type": "code",
   "execution_count": 198,
   "metadata": {},
   "outputs": [
    {
     "name": "stderr",
     "output_type": "stream",
     "text": [
      "c:\\Users\\Alfre\\anaconda3\\lib\\site-packages\\sklearn\\cluster\\_kmeans.py:1382: UserWarning: KMeans is known to have a memory leak on Windows with MKL, when there are less chunks than available threads. You can avoid it by setting the environment variable OMP_NUM_THREADS=1.\n",
      "  warnings.warn(\n",
      "c:\\Users\\Alfre\\anaconda3\\lib\\site-packages\\sklearn\\cluster\\_kmeans.py:1382: UserWarning: KMeans is known to have a memory leak on Windows with MKL, when there are less chunks than available threads. You can avoid it by setting the environment variable OMP_NUM_THREADS=1.\n",
      "  warnings.warn(\n",
      "c:\\Users\\Alfre\\anaconda3\\lib\\site-packages\\sklearn\\cluster\\_kmeans.py:1382: UserWarning: KMeans is known to have a memory leak on Windows with MKL, when there are less chunks than available threads. You can avoid it by setting the environment variable OMP_NUM_THREADS=1.\n",
      "  warnings.warn(\n",
      "c:\\Users\\Alfre\\anaconda3\\lib\\site-packages\\sklearn\\cluster\\_kmeans.py:1382: UserWarning: KMeans is known to have a memory leak on Windows with MKL, when there are less chunks than available threads. You can avoid it by setting the environment variable OMP_NUM_THREADS=1.\n",
      "  warnings.warn(\n",
      "c:\\Users\\Alfre\\anaconda3\\lib\\site-packages\\sklearn\\cluster\\_kmeans.py:1382: UserWarning: KMeans is known to have a memory leak on Windows with MKL, when there are less chunks than available threads. You can avoid it by setting the environment variable OMP_NUM_THREADS=1.\n",
      "  warnings.warn(\n",
      "c:\\Users\\Alfre\\anaconda3\\lib\\site-packages\\sklearn\\cluster\\_kmeans.py:1382: UserWarning: KMeans is known to have a memory leak on Windows with MKL, when there are less chunks than available threads. You can avoid it by setting the environment variable OMP_NUM_THREADS=1.\n",
      "  warnings.warn(\n",
      "c:\\Users\\Alfre\\anaconda3\\lib\\site-packages\\sklearn\\cluster\\_kmeans.py:1382: UserWarning: KMeans is known to have a memory leak on Windows with MKL, when there are less chunks than available threads. You can avoid it by setting the environment variable OMP_NUM_THREADS=1.\n",
      "  warnings.warn(\n",
      "c:\\Users\\Alfre\\anaconda3\\lib\\site-packages\\sklearn\\cluster\\_kmeans.py:1382: UserWarning: KMeans is known to have a memory leak on Windows with MKL, when there are less chunks than available threads. You can avoid it by setting the environment variable OMP_NUM_THREADS=1.\n",
      "  warnings.warn(\n",
      "c:\\Users\\Alfre\\anaconda3\\lib\\site-packages\\sklearn\\cluster\\_kmeans.py:1382: UserWarning: KMeans is known to have a memory leak on Windows with MKL, when there are less chunks than available threads. You can avoid it by setting the environment variable OMP_NUM_THREADS=1.\n",
      "  warnings.warn(\n"
     ]
    }
   ],
   "source": [
    "from sklearn.cluster import SpectralClustering\n",
    "G = mapper.map(projected_data, data, clusterer=SpectralClustering(n_clusters=3), cover=covering)"
   ]
  },
  {
   "cell_type": "code",
   "execution_count": 200,
   "metadata": {},
   "outputs": [],
   "source": [
    "from sklearn.cluster import MeanShift\n",
    "G = mapper.map(projected_data, data, clusterer=MeanShift(), cover=covering)"
   ]
  },
  {
   "cell_type": "code",
   "execution_count": 201,
   "metadata": {},
   "outputs": [
    {
     "data": {
      "text/html": [
       "<style>\n",
       "        .container { width:100% !important; }\n",
       "        .output_scroll {height: 800px !important;}\n",
       "        </style>"
      ],
      "text/plain": [
       "<IPython.core.display.HTML object>"
      ]
     },
     "metadata": {},
     "output_type": "display_data"
    },
    {
     "name": "stderr",
     "output_type": "stream",
     "text": [
      "C:\\Users\\Alfre\\AppData\\Roaming\\Python\\Python39\\site-packages\\IPython\\core\\display.py:431: UserWarning: Consider using IPython.display.IFrame instead\n",
      "  warnings.warn(\"Consider using IPython.display.IFrame instead\")\n"
     ]
    },
    {
     "data": {
      "text/html": [
       "<iframe src=mapper_reto_nino1_2.html width=100%% height=800 frameBorder=\"0\"></iframe>"
      ],
      "text/plain": [
       "<IPython.core.display.HTML object>"
      ]
     },
     "metadata": {},
     "output_type": "display_data"
    }
   ],
   "source": [
    "mapper.visualize(G, \n",
    "                title='Mapper',\n",
    "                color_values = merge3['nino3_4'].to_numpy(),\n",
    "                color_function_name = 'Mean',\n",
    "                node_color_function=np.array(['average','std','sum','max','min']))\n",
    "\n",
    "km.jupyter.display(\"mapper_reto_nino1_2.html\")"
   ]
  },
  {
   "attachments": {},
   "cell_type": "markdown",
   "metadata": {},
   "source": [
    "#### TSNE"
   ]
  },
  {
   "cell_type": "code",
   "execution_count": 202,
   "metadata": {},
   "outputs": [],
   "source": [
    "from sklearn.manifold import TSNE\n",
    "tsne_transformer = TSNE(n_components=2, random_state=42)\n",
    "projected_data = tsne_transformer.fit_transform(data)\n",
    "\n",
    "covering=km.Cover(n_cubes=3,perc_overlap=0.33)"
   ]
  },
  {
   "cell_type": "code",
   "execution_count": 203,
   "metadata": {},
   "outputs": [
    {
     "name": "stderr",
     "output_type": "stream",
     "text": [
      "c:\\Users\\Alfre\\anaconda3\\lib\\site-packages\\sklearn\\cluster\\_kmeans.py:870: FutureWarning: The default value of `n_init` will change from 10 to 'auto' in 1.4. Set the value of `n_init` explicitly to suppress the warning\n",
      "  warnings.warn(\n",
      "c:\\Users\\Alfre\\anaconda3\\lib\\site-packages\\sklearn\\cluster\\_kmeans.py:1382: UserWarning: KMeans is known to have a memory leak on Windows with MKL, when there are less chunks than available threads. You can avoid it by setting the environment variable OMP_NUM_THREADS=1.\n",
      "  warnings.warn(\n",
      "c:\\Users\\Alfre\\anaconda3\\lib\\site-packages\\sklearn\\cluster\\_kmeans.py:870: FutureWarning: The default value of `n_init` will change from 10 to 'auto' in 1.4. Set the value of `n_init` explicitly to suppress the warning\n",
      "  warnings.warn(\n",
      "c:\\Users\\Alfre\\anaconda3\\lib\\site-packages\\sklearn\\cluster\\_kmeans.py:1382: UserWarning: KMeans is known to have a memory leak on Windows with MKL, when there are less chunks than available threads. You can avoid it by setting the environment variable OMP_NUM_THREADS=1.\n",
      "  warnings.warn(\n",
      "c:\\Users\\Alfre\\anaconda3\\lib\\site-packages\\sklearn\\cluster\\_kmeans.py:870: FutureWarning: The default value of `n_init` will change from 10 to 'auto' in 1.4. Set the value of `n_init` explicitly to suppress the warning\n",
      "  warnings.warn(\n",
      "c:\\Users\\Alfre\\anaconda3\\lib\\site-packages\\sklearn\\cluster\\_kmeans.py:1382: UserWarning: KMeans is known to have a memory leak on Windows with MKL, when there are less chunks than available threads. You can avoid it by setting the environment variable OMP_NUM_THREADS=1.\n",
      "  warnings.warn(\n",
      "c:\\Users\\Alfre\\anaconda3\\lib\\site-packages\\sklearn\\cluster\\_kmeans.py:870: FutureWarning: The default value of `n_init` will change from 10 to 'auto' in 1.4. Set the value of `n_init` explicitly to suppress the warning\n",
      "  warnings.warn(\n",
      "c:\\Users\\Alfre\\anaconda3\\lib\\site-packages\\sklearn\\cluster\\_kmeans.py:1382: UserWarning: KMeans is known to have a memory leak on Windows with MKL, when there are less chunks than available threads. You can avoid it by setting the environment variable OMP_NUM_THREADS=1.\n",
      "  warnings.warn(\n",
      "c:\\Users\\Alfre\\anaconda3\\lib\\site-packages\\sklearn\\cluster\\_kmeans.py:870: FutureWarning: The default value of `n_init` will change from 10 to 'auto' in 1.4. Set the value of `n_init` explicitly to suppress the warning\n",
      "  warnings.warn(\n",
      "c:\\Users\\Alfre\\anaconda3\\lib\\site-packages\\sklearn\\cluster\\_kmeans.py:1382: UserWarning: KMeans is known to have a memory leak on Windows with MKL, when there are less chunks than available threads. You can avoid it by setting the environment variable OMP_NUM_THREADS=1.\n",
      "  warnings.warn(\n",
      "c:\\Users\\Alfre\\anaconda3\\lib\\site-packages\\sklearn\\cluster\\_kmeans.py:870: FutureWarning: The default value of `n_init` will change from 10 to 'auto' in 1.4. Set the value of `n_init` explicitly to suppress the warning\n",
      "  warnings.warn(\n",
      "c:\\Users\\Alfre\\anaconda3\\lib\\site-packages\\sklearn\\cluster\\_kmeans.py:1382: UserWarning: KMeans is known to have a memory leak on Windows with MKL, when there are less chunks than available threads. You can avoid it by setting the environment variable OMP_NUM_THREADS=1.\n",
      "  warnings.warn(\n",
      "c:\\Users\\Alfre\\anaconda3\\lib\\site-packages\\sklearn\\cluster\\_kmeans.py:870: FutureWarning: The default value of `n_init` will change from 10 to 'auto' in 1.4. Set the value of `n_init` explicitly to suppress the warning\n",
      "  warnings.warn(\n",
      "c:\\Users\\Alfre\\anaconda3\\lib\\site-packages\\sklearn\\cluster\\_kmeans.py:1382: UserWarning: KMeans is known to have a memory leak on Windows with MKL, when there are less chunks than available threads. You can avoid it by setting the environment variable OMP_NUM_THREADS=1.\n",
      "  warnings.warn(\n",
      "c:\\Users\\Alfre\\anaconda3\\lib\\site-packages\\sklearn\\cluster\\_kmeans.py:870: FutureWarning: The default value of `n_init` will change from 10 to 'auto' in 1.4. Set the value of `n_init` explicitly to suppress the warning\n",
      "  warnings.warn(\n",
      "c:\\Users\\Alfre\\anaconda3\\lib\\site-packages\\sklearn\\cluster\\_kmeans.py:1382: UserWarning: KMeans is known to have a memory leak on Windows with MKL, when there are less chunks than available threads. You can avoid it by setting the environment variable OMP_NUM_THREADS=1.\n",
      "  warnings.warn(\n",
      "c:\\Users\\Alfre\\anaconda3\\lib\\site-packages\\sklearn\\cluster\\_kmeans.py:870: FutureWarning: The default value of `n_init` will change from 10 to 'auto' in 1.4. Set the value of `n_init` explicitly to suppress the warning\n",
      "  warnings.warn(\n",
      "c:\\Users\\Alfre\\anaconda3\\lib\\site-packages\\sklearn\\cluster\\_kmeans.py:1382: UserWarning: KMeans is known to have a memory leak on Windows with MKL, when there are less chunks than available threads. You can avoid it by setting the environment variable OMP_NUM_THREADS=1.\n",
      "  warnings.warn(\n"
     ]
    }
   ],
   "source": [
    "G = mapper.map(projected_data, data, sklearn.cluster.KMeans(n_clusters=3),cover=covering)"
   ]
  },
  {
   "cell_type": "code",
   "execution_count": 205,
   "metadata": {},
   "outputs": [
    {
     "name": "stderr",
     "output_type": "stream",
     "text": [
      "c:\\Users\\Alfre\\anaconda3\\lib\\site-packages\\sklearn\\cluster\\_agglomerative.py:983: FutureWarning: Attribute `affinity` was deprecated in version 1.2 and will be removed in 1.4. Use `metric` instead\n",
      "  warnings.warn(\n",
      "c:\\Users\\Alfre\\anaconda3\\lib\\site-packages\\sklearn\\cluster\\_agglomerative.py:983: FutureWarning: Attribute `affinity` was deprecated in version 1.2 and will be removed in 1.4. Use `metric` instead\n",
      "  warnings.warn(\n",
      "c:\\Users\\Alfre\\anaconda3\\lib\\site-packages\\sklearn\\cluster\\_agglomerative.py:983: FutureWarning: Attribute `affinity` was deprecated in version 1.2 and will be removed in 1.4. Use `metric` instead\n",
      "  warnings.warn(\n",
      "c:\\Users\\Alfre\\anaconda3\\lib\\site-packages\\sklearn\\cluster\\_agglomerative.py:983: FutureWarning: Attribute `affinity` was deprecated in version 1.2 and will be removed in 1.4. Use `metric` instead\n",
      "  warnings.warn(\n",
      "c:\\Users\\Alfre\\anaconda3\\lib\\site-packages\\sklearn\\cluster\\_agglomerative.py:983: FutureWarning: Attribute `affinity` was deprecated in version 1.2 and will be removed in 1.4. Use `metric` instead\n",
      "  warnings.warn(\n",
      "c:\\Users\\Alfre\\anaconda3\\lib\\site-packages\\sklearn\\cluster\\_agglomerative.py:983: FutureWarning: Attribute `affinity` was deprecated in version 1.2 and will be removed in 1.4. Use `metric` instead\n",
      "  warnings.warn(\n",
      "c:\\Users\\Alfre\\anaconda3\\lib\\site-packages\\sklearn\\cluster\\_agglomerative.py:983: FutureWarning: Attribute `affinity` was deprecated in version 1.2 and will be removed in 1.4. Use `metric` instead\n",
      "  warnings.warn(\n",
      "c:\\Users\\Alfre\\anaconda3\\lib\\site-packages\\sklearn\\cluster\\_agglomerative.py:983: FutureWarning: Attribute `affinity` was deprecated in version 1.2 and will be removed in 1.4. Use `metric` instead\n",
      "  warnings.warn(\n",
      "c:\\Users\\Alfre\\anaconda3\\lib\\site-packages\\sklearn\\cluster\\_agglomerative.py:983: FutureWarning: Attribute `affinity` was deprecated in version 1.2 and will be removed in 1.4. Use `metric` instead\n",
      "  warnings.warn(\n"
     ]
    }
   ],
   "source": [
    "from sklearn.cluster import AgglomerativeClustering\n",
    "G = mapper.map(projected_data, data, clusterer=AgglomerativeClustering(n_clusters=3, linkage=\"complete\", affinity=\"cosine\"), cover=covering)"
   ]
  },
  {
   "cell_type": "code",
   "execution_count": 207,
   "metadata": {},
   "outputs": [],
   "source": [
    "from sklearn.cluster import DBSCAN\n",
    "G = mapper.map(projected_data, data, clusterer=DBSCAN(eps=0.5, min_samples=5), cover=covering)"
   ]
  },
  {
   "cell_type": "code",
   "execution_count": 209,
   "metadata": {},
   "outputs": [
    {
     "name": "stderr",
     "output_type": "stream",
     "text": [
      "c:\\Users\\Alfre\\anaconda3\\lib\\site-packages\\sklearn\\cluster\\_kmeans.py:1382: UserWarning: KMeans is known to have a memory leak on Windows with MKL, when there are less chunks than available threads. You can avoid it by setting the environment variable OMP_NUM_THREADS=1.\n",
      "  warnings.warn(\n",
      "c:\\Users\\Alfre\\anaconda3\\lib\\site-packages\\sklearn\\cluster\\_kmeans.py:1382: UserWarning: KMeans is known to have a memory leak on Windows with MKL, when there are less chunks than available threads. You can avoid it by setting the environment variable OMP_NUM_THREADS=1.\n",
      "  warnings.warn(\n",
      "c:\\Users\\Alfre\\anaconda3\\lib\\site-packages\\sklearn\\cluster\\_kmeans.py:1382: UserWarning: KMeans is known to have a memory leak on Windows with MKL, when there are less chunks than available threads. You can avoid it by setting the environment variable OMP_NUM_THREADS=1.\n",
      "  warnings.warn(\n",
      "c:\\Users\\Alfre\\anaconda3\\lib\\site-packages\\sklearn\\cluster\\_kmeans.py:1382: UserWarning: KMeans is known to have a memory leak on Windows with MKL, when there are less chunks than available threads. You can avoid it by setting the environment variable OMP_NUM_THREADS=1.\n",
      "  warnings.warn(\n",
      "c:\\Users\\Alfre\\anaconda3\\lib\\site-packages\\sklearn\\cluster\\_kmeans.py:1382: UserWarning: KMeans is known to have a memory leak on Windows with MKL, when there are less chunks than available threads. You can avoid it by setting the environment variable OMP_NUM_THREADS=1.\n",
      "  warnings.warn(\n",
      "c:\\Users\\Alfre\\anaconda3\\lib\\site-packages\\sklearn\\cluster\\_kmeans.py:1382: UserWarning: KMeans is known to have a memory leak on Windows with MKL, when there are less chunks than available threads. You can avoid it by setting the environment variable OMP_NUM_THREADS=1.\n",
      "  warnings.warn(\n",
      "c:\\Users\\Alfre\\anaconda3\\lib\\site-packages\\sklearn\\cluster\\_kmeans.py:1382: UserWarning: KMeans is known to have a memory leak on Windows with MKL, when there are less chunks than available threads. You can avoid it by setting the environment variable OMP_NUM_THREADS=1.\n",
      "  warnings.warn(\n",
      "c:\\Users\\Alfre\\anaconda3\\lib\\site-packages\\sklearn\\cluster\\_kmeans.py:1382: UserWarning: KMeans is known to have a memory leak on Windows with MKL, when there are less chunks than available threads. You can avoid it by setting the environment variable OMP_NUM_THREADS=1.\n",
      "  warnings.warn(\n",
      "c:\\Users\\Alfre\\anaconda3\\lib\\site-packages\\sklearn\\cluster\\_kmeans.py:1382: UserWarning: KMeans is known to have a memory leak on Windows with MKL, when there are less chunks than available threads. You can avoid it by setting the environment variable OMP_NUM_THREADS=1.\n",
      "  warnings.warn(\n"
     ]
    }
   ],
   "source": [
    "from sklearn.cluster import SpectralClustering\n",
    "G = mapper.map(projected_data, data, clusterer=SpectralClustering(n_clusters=3), cover=covering)"
   ]
  },
  {
   "cell_type": "code",
   "execution_count": 211,
   "metadata": {},
   "outputs": [],
   "source": [
    "from sklearn.cluster import MeanShift\n",
    "G = mapper.map(projected_data, data, clusterer=MeanShift(), cover=covering)"
   ]
  },
  {
   "cell_type": "code",
   "execution_count": 212,
   "metadata": {},
   "outputs": [
    {
     "data": {
      "text/html": [
       "<style>\n",
       "        .container { width:100% !important; }\n",
       "        .output_scroll {height: 800px !important;}\n",
       "        </style>"
      ],
      "text/plain": [
       "<IPython.core.display.HTML object>"
      ]
     },
     "metadata": {},
     "output_type": "display_data"
    },
    {
     "name": "stderr",
     "output_type": "stream",
     "text": [
      "C:\\Users\\Alfre\\AppData\\Roaming\\Python\\Python39\\site-packages\\IPython\\core\\display.py:431: UserWarning: Consider using IPython.display.IFrame instead\n",
      "  warnings.warn(\"Consider using IPython.display.IFrame instead\")\n"
     ]
    },
    {
     "data": {
      "text/html": [
       "<iframe src=mapper_reto_nino1_2.html width=100%% height=800 frameBorder=\"0\"></iframe>"
      ],
      "text/plain": [
       "<IPython.core.display.HTML object>"
      ]
     },
     "metadata": {},
     "output_type": "display_data"
    }
   ],
   "source": [
    "mapper.visualize(G, \n",
    "                title='Mapper',\n",
    "                color_values = merge3['nino3_4'].to_numpy(),\n",
    "                color_function_name = 'Mean',\n",
    "                node_color_function=np.array(['average','std','sum','max','min']))\n",
    "\n",
    "km.jupyter.display(\"mapper_reto_nino1_2.html\")"
   ]
  },
  {
   "attachments": {},
   "cell_type": "markdown",
   "metadata": {},
   "source": [
    "#### PCA"
   ]
  },
  {
   "cell_type": "code",
   "execution_count": 213,
   "metadata": {},
   "outputs": [],
   "source": [
    "from sklearn.decomposition import PCA\n",
    "pca_transformer = PCA(n_components=2)\n",
    "projected_data = pca_transformer.fit_transform(data)\n",
    "\n",
    "covering=km.Cover(n_cubes=3,perc_overlap=0.33)"
   ]
  },
  {
   "cell_type": "code",
   "execution_count": 214,
   "metadata": {},
   "outputs": [
    {
     "name": "stderr",
     "output_type": "stream",
     "text": [
      "c:\\Users\\Alfre\\anaconda3\\lib\\site-packages\\sklearn\\cluster\\_kmeans.py:870: FutureWarning: The default value of `n_init` will change from 10 to 'auto' in 1.4. Set the value of `n_init` explicitly to suppress the warning\n",
      "  warnings.warn(\n",
      "c:\\Users\\Alfre\\anaconda3\\lib\\site-packages\\sklearn\\cluster\\_kmeans.py:1382: UserWarning: KMeans is known to have a memory leak on Windows with MKL, when there are less chunks than available threads. You can avoid it by setting the environment variable OMP_NUM_THREADS=1.\n",
      "  warnings.warn(\n",
      "c:\\Users\\Alfre\\anaconda3\\lib\\site-packages\\sklearn\\cluster\\_kmeans.py:870: FutureWarning: The default value of `n_init` will change from 10 to 'auto' in 1.4. Set the value of `n_init` explicitly to suppress the warning\n",
      "  warnings.warn(\n",
      "c:\\Users\\Alfre\\anaconda3\\lib\\site-packages\\sklearn\\cluster\\_kmeans.py:1382: UserWarning: KMeans is known to have a memory leak on Windows with MKL, when there are less chunks than available threads. You can avoid it by setting the environment variable OMP_NUM_THREADS=1.\n",
      "  warnings.warn(\n",
      "c:\\Users\\Alfre\\anaconda3\\lib\\site-packages\\sklearn\\cluster\\_kmeans.py:870: FutureWarning: The default value of `n_init` will change from 10 to 'auto' in 1.4. Set the value of `n_init` explicitly to suppress the warning\n",
      "  warnings.warn(\n",
      "c:\\Users\\Alfre\\anaconda3\\lib\\site-packages\\sklearn\\cluster\\_kmeans.py:1382: UserWarning: KMeans is known to have a memory leak on Windows with MKL, when there are less chunks than available threads. You can avoid it by setting the environment variable OMP_NUM_THREADS=1.\n",
      "  warnings.warn(\n",
      "c:\\Users\\Alfre\\anaconda3\\lib\\site-packages\\sklearn\\cluster\\_kmeans.py:870: FutureWarning: The default value of `n_init` will change from 10 to 'auto' in 1.4. Set the value of `n_init` explicitly to suppress the warning\n",
      "  warnings.warn(\n",
      "c:\\Users\\Alfre\\anaconda3\\lib\\site-packages\\sklearn\\cluster\\_kmeans.py:1382: UserWarning: KMeans is known to have a memory leak on Windows with MKL, when there are less chunks than available threads. You can avoid it by setting the environment variable OMP_NUM_THREADS=1.\n",
      "  warnings.warn(\n",
      "c:\\Users\\Alfre\\anaconda3\\lib\\site-packages\\sklearn\\cluster\\_kmeans.py:870: FutureWarning: The default value of `n_init` will change from 10 to 'auto' in 1.4. Set the value of `n_init` explicitly to suppress the warning\n",
      "  warnings.warn(\n",
      "c:\\Users\\Alfre\\anaconda3\\lib\\site-packages\\sklearn\\cluster\\_kmeans.py:1382: UserWarning: KMeans is known to have a memory leak on Windows with MKL, when there are less chunks than available threads. You can avoid it by setting the environment variable OMP_NUM_THREADS=2.\n",
      "  warnings.warn(\n",
      "c:\\Users\\Alfre\\anaconda3\\lib\\site-packages\\sklearn\\cluster\\_kmeans.py:870: FutureWarning: The default value of `n_init` will change from 10 to 'auto' in 1.4. Set the value of `n_init` explicitly to suppress the warning\n",
      "  warnings.warn(\n",
      "c:\\Users\\Alfre\\anaconda3\\lib\\site-packages\\sklearn\\cluster\\_kmeans.py:1382: UserWarning: KMeans is known to have a memory leak on Windows with MKL, when there are less chunks than available threads. You can avoid it by setting the environment variable OMP_NUM_THREADS=1.\n",
      "  warnings.warn(\n",
      "c:\\Users\\Alfre\\anaconda3\\lib\\site-packages\\sklearn\\cluster\\_kmeans.py:870: FutureWarning: The default value of `n_init` will change from 10 to 'auto' in 1.4. Set the value of `n_init` explicitly to suppress the warning\n",
      "  warnings.warn(\n",
      "c:\\Users\\Alfre\\anaconda3\\lib\\site-packages\\sklearn\\cluster\\_kmeans.py:1382: UserWarning: KMeans is known to have a memory leak on Windows with MKL, when there are less chunks than available threads. You can avoid it by setting the environment variable OMP_NUM_THREADS=1.\n",
      "  warnings.warn(\n",
      "c:\\Users\\Alfre\\anaconda3\\lib\\site-packages\\sklearn\\cluster\\_kmeans.py:870: FutureWarning: The default value of `n_init` will change from 10 to 'auto' in 1.4. Set the value of `n_init` explicitly to suppress the warning\n",
      "  warnings.warn(\n",
      "c:\\Users\\Alfre\\anaconda3\\lib\\site-packages\\sklearn\\cluster\\_kmeans.py:1382: UserWarning: KMeans is known to have a memory leak on Windows with MKL, when there are less chunks than available threads. You can avoid it by setting the environment variable OMP_NUM_THREADS=1.\n",
      "  warnings.warn(\n",
      "c:\\Users\\Alfre\\anaconda3\\lib\\site-packages\\sklearn\\cluster\\_kmeans.py:870: FutureWarning: The default value of `n_init` will change from 10 to 'auto' in 1.4. Set the value of `n_init` explicitly to suppress the warning\n",
      "  warnings.warn(\n",
      "c:\\Users\\Alfre\\anaconda3\\lib\\site-packages\\sklearn\\cluster\\_kmeans.py:1382: UserWarning: KMeans is known to have a memory leak on Windows with MKL, when there are less chunks than available threads. You can avoid it by setting the environment variable OMP_NUM_THREADS=1.\n",
      "  warnings.warn(\n"
     ]
    }
   ],
   "source": [
    "G = mapper.map(projected_data, data, sklearn.cluster.KMeans(n_clusters=3),cover=covering)"
   ]
  },
  {
   "cell_type": "code",
   "execution_count": 216,
   "metadata": {},
   "outputs": [
    {
     "name": "stderr",
     "output_type": "stream",
     "text": [
      "c:\\Users\\Alfre\\anaconda3\\lib\\site-packages\\sklearn\\cluster\\_agglomerative.py:983: FutureWarning: Attribute `affinity` was deprecated in version 1.2 and will be removed in 1.4. Use `metric` instead\n",
      "  warnings.warn(\n",
      "c:\\Users\\Alfre\\anaconda3\\lib\\site-packages\\sklearn\\cluster\\_agglomerative.py:983: FutureWarning: Attribute `affinity` was deprecated in version 1.2 and will be removed in 1.4. Use `metric` instead\n",
      "  warnings.warn(\n",
      "c:\\Users\\Alfre\\anaconda3\\lib\\site-packages\\sklearn\\cluster\\_agglomerative.py:983: FutureWarning: Attribute `affinity` was deprecated in version 1.2 and will be removed in 1.4. Use `metric` instead\n",
      "  warnings.warn(\n",
      "c:\\Users\\Alfre\\anaconda3\\lib\\site-packages\\sklearn\\cluster\\_agglomerative.py:983: FutureWarning: Attribute `affinity` was deprecated in version 1.2 and will be removed in 1.4. Use `metric` instead\n",
      "  warnings.warn(\n",
      "c:\\Users\\Alfre\\anaconda3\\lib\\site-packages\\sklearn\\cluster\\_agglomerative.py:983: FutureWarning: Attribute `affinity` was deprecated in version 1.2 and will be removed in 1.4. Use `metric` instead\n",
      "  warnings.warn(\n",
      "c:\\Users\\Alfre\\anaconda3\\lib\\site-packages\\sklearn\\cluster\\_agglomerative.py:983: FutureWarning: Attribute `affinity` was deprecated in version 1.2 and will be removed in 1.4. Use `metric` instead\n",
      "  warnings.warn(\n",
      "c:\\Users\\Alfre\\anaconda3\\lib\\site-packages\\sklearn\\cluster\\_agglomerative.py:983: FutureWarning: Attribute `affinity` was deprecated in version 1.2 and will be removed in 1.4. Use `metric` instead\n",
      "  warnings.warn(\n",
      "c:\\Users\\Alfre\\anaconda3\\lib\\site-packages\\sklearn\\cluster\\_agglomerative.py:983: FutureWarning: Attribute `affinity` was deprecated in version 1.2 and will be removed in 1.4. Use `metric` instead\n",
      "  warnings.warn(\n",
      "c:\\Users\\Alfre\\anaconda3\\lib\\site-packages\\sklearn\\cluster\\_agglomerative.py:983: FutureWarning: Attribute `affinity` was deprecated in version 1.2 and will be removed in 1.4. Use `metric` instead\n",
      "  warnings.warn(\n"
     ]
    }
   ],
   "source": [
    "from sklearn.cluster import AgglomerativeClustering\n",
    "G = mapper.map(projected_data, data, clusterer=AgglomerativeClustering(n_clusters=3, linkage=\"complete\", affinity=\"cosine\"), cover=covering)"
   ]
  },
  {
   "cell_type": "code",
   "execution_count": 218,
   "metadata": {},
   "outputs": [],
   "source": [
    "from sklearn.cluster import DBSCAN\n",
    "G = mapper.map(projected_data, data, clusterer=DBSCAN(eps=0.5, min_samples=5), cover=covering)"
   ]
  },
  {
   "cell_type": "code",
   "execution_count": 220,
   "metadata": {},
   "outputs": [
    {
     "name": "stderr",
     "output_type": "stream",
     "text": [
      "c:\\Users\\Alfre\\anaconda3\\lib\\site-packages\\sklearn\\cluster\\_kmeans.py:1382: UserWarning: KMeans is known to have a memory leak on Windows with MKL, when there are less chunks than available threads. You can avoid it by setting the environment variable OMP_NUM_THREADS=1.\n",
      "  warnings.warn(\n",
      "c:\\Users\\Alfre\\anaconda3\\lib\\site-packages\\sklearn\\cluster\\_kmeans.py:1382: UserWarning: KMeans is known to have a memory leak on Windows with MKL, when there are less chunks than available threads. You can avoid it by setting the environment variable OMP_NUM_THREADS=1.\n",
      "  warnings.warn(\n",
      "c:\\Users\\Alfre\\anaconda3\\lib\\site-packages\\sklearn\\cluster\\_kmeans.py:1382: UserWarning: KMeans is known to have a memory leak on Windows with MKL, when there are less chunks than available threads. You can avoid it by setting the environment variable OMP_NUM_THREADS=1.\n",
      "  warnings.warn(\n",
      "c:\\Users\\Alfre\\anaconda3\\lib\\site-packages\\sklearn\\cluster\\_kmeans.py:1382: UserWarning: KMeans is known to have a memory leak on Windows with MKL, when there are less chunks than available threads. You can avoid it by setting the environment variable OMP_NUM_THREADS=1.\n",
      "  warnings.warn(\n",
      "c:\\Users\\Alfre\\anaconda3\\lib\\site-packages\\sklearn\\cluster\\_kmeans.py:1382: UserWarning: KMeans is known to have a memory leak on Windows with MKL, when there are less chunks than available threads. You can avoid it by setting the environment variable OMP_NUM_THREADS=2.\n",
      "  warnings.warn(\n",
      "c:\\Users\\Alfre\\anaconda3\\lib\\site-packages\\sklearn\\cluster\\_kmeans.py:1382: UserWarning: KMeans is known to have a memory leak on Windows with MKL, when there are less chunks than available threads. You can avoid it by setting the environment variable OMP_NUM_THREADS=1.\n",
      "  warnings.warn(\n",
      "c:\\Users\\Alfre\\anaconda3\\lib\\site-packages\\sklearn\\cluster\\_kmeans.py:1382: UserWarning: KMeans is known to have a memory leak on Windows with MKL, when there are less chunks than available threads. You can avoid it by setting the environment variable OMP_NUM_THREADS=1.\n",
      "  warnings.warn(\n",
      "c:\\Users\\Alfre\\anaconda3\\lib\\site-packages\\sklearn\\cluster\\_kmeans.py:1382: UserWarning: KMeans is known to have a memory leak on Windows with MKL, when there are less chunks than available threads. You can avoid it by setting the environment variable OMP_NUM_THREADS=1.\n",
      "  warnings.warn(\n",
      "c:\\Users\\Alfre\\anaconda3\\lib\\site-packages\\sklearn\\cluster\\_kmeans.py:1382: UserWarning: KMeans is known to have a memory leak on Windows with MKL, when there are less chunks than available threads. You can avoid it by setting the environment variable OMP_NUM_THREADS=1.\n",
      "  warnings.warn(\n"
     ]
    }
   ],
   "source": [
    "from sklearn.cluster import SpectralClustering\n",
    "G = mapper.map(projected_data, data, clusterer=SpectralClustering(n_clusters=3), cover=covering)"
   ]
  },
  {
   "cell_type": "code",
   "execution_count": 222,
   "metadata": {},
   "outputs": [],
   "source": [
    "from sklearn.cluster import MeanShift\n",
    "G = mapper.map(projected_data, data, clusterer=MeanShift(), cover=covering)"
   ]
  },
  {
   "cell_type": "code",
   "execution_count": 223,
   "metadata": {},
   "outputs": [
    {
     "name": "stderr",
     "output_type": "stream",
     "text": [
      "c:\\Users\\Alfre\\anaconda3\\lib\\site-packages\\kmapper\\visuals.py:344: RuntimeWarning: invalid value encountered in longlong_scalars\n",
      "  height = np.floor(((bar / max_bucket_value) * 100) + 0.5)\n",
      "c:\\Users\\Alfre\\anaconda3\\lib\\site-packages\\kmapper\\visuals.py:345: RuntimeWarning: invalid value encountered in longlong_scalars\n",
      "  perc = round((bar / sum_bucket_value) * 100.0, 1)\n"
     ]
    },
    {
     "data": {
      "text/html": [
       "<style>\n",
       "        .container { width:100% !important; }\n",
       "        .output_scroll {height: 800px !important;}\n",
       "        </style>"
      ],
      "text/plain": [
       "<IPython.core.display.HTML object>"
      ]
     },
     "metadata": {},
     "output_type": "display_data"
    },
    {
     "name": "stderr",
     "output_type": "stream",
     "text": [
      "C:\\Users\\Alfre\\AppData\\Roaming\\Python\\Python39\\site-packages\\IPython\\core\\display.py:431: UserWarning: Consider using IPython.display.IFrame instead\n",
      "  warnings.warn(\"Consider using IPython.display.IFrame instead\")\n"
     ]
    },
    {
     "data": {
      "text/html": [
       "<iframe src=mapper_reto_nino1_2.html width=100%% height=800 frameBorder=\"0\"></iframe>"
      ],
      "text/plain": [
       "<IPython.core.display.HTML object>"
      ]
     },
     "metadata": {},
     "output_type": "display_data"
    }
   ],
   "source": [
    "mapper.visualize(G, \n",
    "                title='Mapper',\n",
    "                color_values = merge3['nino3_4'].to_numpy(),\n",
    "                color_function_name = 'Mean',\n",
    "                node_color_function=np.array(['average','std','sum','max','min']))\n",
    "\n",
    "km.jupyter.display(\"mapper_reto_nino1_2.html\")"
   ]
  },
  {
   "attachments": {},
   "cell_type": "markdown",
   "metadata": {},
   "source": [
    "#### LLE"
   ]
  },
  {
   "cell_type": "code",
   "execution_count": 224,
   "metadata": {},
   "outputs": [],
   "source": [
    "from sklearn.manifold import LocallyLinearEmbedding\n",
    "lle_transformer = LocallyLinearEmbedding(n_components=2)\n",
    "projected_data = lle_transformer.fit_transform(data)\n",
    "\n",
    "covering=km.Cover(n_cubes=3,perc_overlap=0.33)"
   ]
  },
  {
   "cell_type": "code",
   "execution_count": 225,
   "metadata": {},
   "outputs": [
    {
     "name": "stderr",
     "output_type": "stream",
     "text": [
      "c:\\Users\\Alfre\\anaconda3\\lib\\site-packages\\sklearn\\cluster\\_kmeans.py:870: FutureWarning: The default value of `n_init` will change from 10 to 'auto' in 1.4. Set the value of `n_init` explicitly to suppress the warning\n",
      "  warnings.warn(\n",
      "c:\\Users\\Alfre\\anaconda3\\lib\\site-packages\\sklearn\\cluster\\_kmeans.py:1382: UserWarning: KMeans is known to have a memory leak on Windows with MKL, when there are less chunks than available threads. You can avoid it by setting the environment variable OMP_NUM_THREADS=1.\n",
      "  warnings.warn(\n",
      "c:\\Users\\Alfre\\anaconda3\\lib\\site-packages\\sklearn\\cluster\\_kmeans.py:870: FutureWarning: The default value of `n_init` will change from 10 to 'auto' in 1.4. Set the value of `n_init` explicitly to suppress the warning\n",
      "  warnings.warn(\n",
      "c:\\Users\\Alfre\\anaconda3\\lib\\site-packages\\sklearn\\cluster\\_kmeans.py:1382: UserWarning: KMeans is known to have a memory leak on Windows with MKL, when there are less chunks than available threads. You can avoid it by setting the environment variable OMP_NUM_THREADS=2.\n",
      "  warnings.warn(\n",
      "c:\\Users\\Alfre\\anaconda3\\lib\\site-packages\\sklearn\\cluster\\_kmeans.py:870: FutureWarning: The default value of `n_init` will change from 10 to 'auto' in 1.4. Set the value of `n_init` explicitly to suppress the warning\n",
      "  warnings.warn(\n",
      "c:\\Users\\Alfre\\anaconda3\\lib\\site-packages\\sklearn\\cluster\\_kmeans.py:1382: UserWarning: KMeans is known to have a memory leak on Windows with MKL, when there are less chunks than available threads. You can avoid it by setting the environment variable OMP_NUM_THREADS=1.\n",
      "  warnings.warn(\n",
      "c:\\Users\\Alfre\\anaconda3\\lib\\site-packages\\sklearn\\cluster\\_kmeans.py:870: FutureWarning: The default value of `n_init` will change from 10 to 'auto' in 1.4. Set the value of `n_init` explicitly to suppress the warning\n",
      "  warnings.warn(\n",
      "c:\\Users\\Alfre\\anaconda3\\lib\\site-packages\\sklearn\\cluster\\_kmeans.py:1382: UserWarning: KMeans is known to have a memory leak on Windows with MKL, when there are less chunks than available threads. You can avoid it by setting the environment variable OMP_NUM_THREADS=2.\n",
      "  warnings.warn(\n",
      "c:\\Users\\Alfre\\anaconda3\\lib\\site-packages\\sklearn\\cluster\\_kmeans.py:870: FutureWarning: The default value of `n_init` will change from 10 to 'auto' in 1.4. Set the value of `n_init` explicitly to suppress the warning\n",
      "  warnings.warn(\n",
      "c:\\Users\\Alfre\\anaconda3\\lib\\site-packages\\sklearn\\cluster\\_kmeans.py:1382: UserWarning: KMeans is known to have a memory leak on Windows with MKL, when there are less chunks than available threads. You can avoid it by setting the environment variable OMP_NUM_THREADS=2.\n",
      "  warnings.warn(\n",
      "c:\\Users\\Alfre\\anaconda3\\lib\\site-packages\\sklearn\\cluster\\_kmeans.py:870: FutureWarning: The default value of `n_init` will change from 10 to 'auto' in 1.4. Set the value of `n_init` explicitly to suppress the warning\n",
      "  warnings.warn(\n",
      "c:\\Users\\Alfre\\anaconda3\\lib\\site-packages\\sklearn\\cluster\\_kmeans.py:1382: UserWarning: KMeans is known to have a memory leak on Windows with MKL, when there are less chunks than available threads. You can avoid it by setting the environment variable OMP_NUM_THREADS=1.\n",
      "  warnings.warn(\n",
      "c:\\Users\\Alfre\\anaconda3\\lib\\site-packages\\sklearn\\cluster\\_kmeans.py:870: FutureWarning: The default value of `n_init` will change from 10 to 'auto' in 1.4. Set the value of `n_init` explicitly to suppress the warning\n",
      "  warnings.warn(\n",
      "c:\\Users\\Alfre\\anaconda3\\lib\\site-packages\\sklearn\\cluster\\_kmeans.py:1382: UserWarning: KMeans is known to have a memory leak on Windows with MKL, when there are less chunks than available threads. You can avoid it by setting the environment variable OMP_NUM_THREADS=1.\n",
      "  warnings.warn(\n",
      "c:\\Users\\Alfre\\anaconda3\\lib\\site-packages\\sklearn\\cluster\\_kmeans.py:870: FutureWarning: The default value of `n_init` will change from 10 to 'auto' in 1.4. Set the value of `n_init` explicitly to suppress the warning\n",
      "  warnings.warn(\n",
      "c:\\Users\\Alfre\\anaconda3\\lib\\site-packages\\sklearn\\cluster\\_kmeans.py:1382: UserWarning: KMeans is known to have a memory leak on Windows with MKL, when there are less chunks than available threads. You can avoid it by setting the environment variable OMP_NUM_THREADS=1.\n",
      "  warnings.warn(\n",
      "c:\\Users\\Alfre\\anaconda3\\lib\\site-packages\\sklearn\\cluster\\_kmeans.py:870: FutureWarning: The default value of `n_init` will change from 10 to 'auto' in 1.4. Set the value of `n_init` explicitly to suppress the warning\n",
      "  warnings.warn(\n",
      "c:\\Users\\Alfre\\anaconda3\\lib\\site-packages\\sklearn\\cluster\\_kmeans.py:1382: UserWarning: KMeans is known to have a memory leak on Windows with MKL, when there are less chunks than available threads. You can avoid it by setting the environment variable OMP_NUM_THREADS=1.\n",
      "  warnings.warn(\n"
     ]
    }
   ],
   "source": [
    "G = mapper.map(projected_data, data, sklearn.cluster.KMeans(n_clusters=3),cover=covering)"
   ]
  },
  {
   "cell_type": "code",
   "execution_count": 228,
   "metadata": {},
   "outputs": [
    {
     "name": "stderr",
     "output_type": "stream",
     "text": [
      "c:\\Users\\Alfre\\anaconda3\\lib\\site-packages\\sklearn\\cluster\\_agglomerative.py:983: FutureWarning: Attribute `affinity` was deprecated in version 1.2 and will be removed in 1.4. Use `metric` instead\n",
      "  warnings.warn(\n",
      "c:\\Users\\Alfre\\anaconda3\\lib\\site-packages\\sklearn\\cluster\\_agglomerative.py:983: FutureWarning: Attribute `affinity` was deprecated in version 1.2 and will be removed in 1.4. Use `metric` instead\n",
      "  warnings.warn(\n",
      "c:\\Users\\Alfre\\anaconda3\\lib\\site-packages\\sklearn\\cluster\\_agglomerative.py:983: FutureWarning: Attribute `affinity` was deprecated in version 1.2 and will be removed in 1.4. Use `metric` instead\n",
      "  warnings.warn(\n",
      "c:\\Users\\Alfre\\anaconda3\\lib\\site-packages\\sklearn\\cluster\\_agglomerative.py:983: FutureWarning: Attribute `affinity` was deprecated in version 1.2 and will be removed in 1.4. Use `metric` instead\n",
      "  warnings.warn(\n",
      "c:\\Users\\Alfre\\anaconda3\\lib\\site-packages\\sklearn\\cluster\\_agglomerative.py:983: FutureWarning: Attribute `affinity` was deprecated in version 1.2 and will be removed in 1.4. Use `metric` instead\n",
      "  warnings.warn(\n",
      "c:\\Users\\Alfre\\anaconda3\\lib\\site-packages\\sklearn\\cluster\\_agglomerative.py:983: FutureWarning: Attribute `affinity` was deprecated in version 1.2 and will be removed in 1.4. Use `metric` instead\n",
      "  warnings.warn(\n",
      "c:\\Users\\Alfre\\anaconda3\\lib\\site-packages\\sklearn\\cluster\\_agglomerative.py:983: FutureWarning: Attribute `affinity` was deprecated in version 1.2 and will be removed in 1.4. Use `metric` instead\n",
      "  warnings.warn(\n",
      "c:\\Users\\Alfre\\anaconda3\\lib\\site-packages\\sklearn\\cluster\\_agglomerative.py:983: FutureWarning: Attribute `affinity` was deprecated in version 1.2 and will be removed in 1.4. Use `metric` instead\n",
      "  warnings.warn(\n",
      "c:\\Users\\Alfre\\anaconda3\\lib\\site-packages\\sklearn\\cluster\\_agglomerative.py:983: FutureWarning: Attribute `affinity` was deprecated in version 1.2 and will be removed in 1.4. Use `metric` instead\n",
      "  warnings.warn(\n"
     ]
    }
   ],
   "source": [
    "from sklearn.cluster import AgglomerativeClustering\n",
    "G = mapper.map(projected_data, data, clusterer=AgglomerativeClustering(n_clusters=3, linkage=\"complete\", affinity=\"cosine\"), cover=covering)"
   ]
  },
  {
   "cell_type": "code",
   "execution_count": 232,
   "metadata": {},
   "outputs": [],
   "source": [
    "from sklearn.cluster import DBSCAN\n",
    "G = mapper.map(projected_data, data, clusterer=DBSCAN(eps=0.5, min_samples=5), cover=covering)"
   ]
  },
  {
   "cell_type": "code",
   "execution_count": 234,
   "metadata": {},
   "outputs": [
    {
     "name": "stderr",
     "output_type": "stream",
     "text": [
      "c:\\Users\\Alfre\\anaconda3\\lib\\site-packages\\sklearn\\cluster\\_kmeans.py:1382: UserWarning: KMeans is known to have a memory leak on Windows with MKL, when there are less chunks than available threads. You can avoid it by setting the environment variable OMP_NUM_THREADS=1.\n",
      "  warnings.warn(\n",
      "c:\\Users\\Alfre\\anaconda3\\lib\\site-packages\\sklearn\\cluster\\_kmeans.py:1382: UserWarning: KMeans is known to have a memory leak on Windows with MKL, when there are less chunks than available threads. You can avoid it by setting the environment variable OMP_NUM_THREADS=2.\n",
      "  warnings.warn(\n",
      "c:\\Users\\Alfre\\anaconda3\\lib\\site-packages\\scipy\\sparse\\linalg\\_eigen\\arpack\\arpack.py:1600: RuntimeWarning: k >= N for N * N square matrix. Attempting to use scipy.linalg.eigh instead.\n",
      "  warnings.warn(\"k >= N for N * N square matrix. \"\n",
      "c:\\Users\\Alfre\\anaconda3\\lib\\site-packages\\sklearn\\cluster\\_kmeans.py:1382: UserWarning: KMeans is known to have a memory leak on Windows with MKL, when there are less chunks than available threads. You can avoid it by setting the environment variable OMP_NUM_THREADS=1.\n",
      "  warnings.warn(\n",
      "c:\\Users\\Alfre\\anaconda3\\lib\\site-packages\\sklearn\\cluster\\_kmeans.py:1382: UserWarning: KMeans is known to have a memory leak on Windows with MKL, when there are less chunks than available threads. You can avoid it by setting the environment variable OMP_NUM_THREADS=2.\n",
      "  warnings.warn(\n",
      "c:\\Users\\Alfre\\anaconda3\\lib\\site-packages\\sklearn\\cluster\\_kmeans.py:1382: UserWarning: KMeans is known to have a memory leak on Windows with MKL, when there are less chunks than available threads. You can avoid it by setting the environment variable OMP_NUM_THREADS=2.\n",
      "  warnings.warn(\n",
      "c:\\Users\\Alfre\\anaconda3\\lib\\site-packages\\sklearn\\cluster\\_kmeans.py:1382: UserWarning: KMeans is known to have a memory leak on Windows with MKL, when there are less chunks than available threads. You can avoid it by setting the environment variable OMP_NUM_THREADS=1.\n",
      "  warnings.warn(\n",
      "c:\\Users\\Alfre\\anaconda3\\lib\\site-packages\\sklearn\\cluster\\_kmeans.py:1382: UserWarning: KMeans is known to have a memory leak on Windows with MKL, when there are less chunks than available threads. You can avoid it by setting the environment variable OMP_NUM_THREADS=1.\n",
      "  warnings.warn(\n",
      "c:\\Users\\Alfre\\anaconda3\\lib\\site-packages\\sklearn\\cluster\\_kmeans.py:1382: UserWarning: KMeans is known to have a memory leak on Windows with MKL, when there are less chunks than available threads. You can avoid it by setting the environment variable OMP_NUM_THREADS=1.\n",
      "  warnings.warn(\n",
      "c:\\Users\\Alfre\\anaconda3\\lib\\site-packages\\scipy\\sparse\\linalg\\_eigen\\arpack\\arpack.py:1600: RuntimeWarning: k >= N for N * N square matrix. Attempting to use scipy.linalg.eigh instead.\n",
      "  warnings.warn(\"k >= N for N * N square matrix. \"\n",
      "c:\\Users\\Alfre\\anaconda3\\lib\\site-packages\\sklearn\\cluster\\_kmeans.py:1382: UserWarning: KMeans is known to have a memory leak on Windows with MKL, when there are less chunks than available threads. You can avoid it by setting the environment variable OMP_NUM_THREADS=1.\n",
      "  warnings.warn(\n"
     ]
    }
   ],
   "source": [
    "from sklearn.cluster import SpectralClustering\n",
    "G = mapper.map(projected_data, data, clusterer=SpectralClustering(n_clusters=3), cover=covering)"
   ]
  },
  {
   "cell_type": "code",
   "execution_count": 236,
   "metadata": {},
   "outputs": [],
   "source": [
    "from sklearn.cluster import MeanShift\n",
    "G = mapper.map(projected_data, data, clusterer=MeanShift(), cover=covering)"
   ]
  },
  {
   "cell_type": "code",
   "execution_count": 237,
   "metadata": {},
   "outputs": [
    {
     "data": {
      "text/html": [
       "<style>\n",
       "        .container { width:100% !important; }\n",
       "        .output_scroll {height: 800px !important;}\n",
       "        </style>"
      ],
      "text/plain": [
       "<IPython.core.display.HTML object>"
      ]
     },
     "metadata": {},
     "output_type": "display_data"
    },
    {
     "name": "stderr",
     "output_type": "stream",
     "text": [
      "C:\\Users\\Alfre\\AppData\\Roaming\\Python\\Python39\\site-packages\\IPython\\core\\display.py:431: UserWarning: Consider using IPython.display.IFrame instead\n",
      "  warnings.warn(\"Consider using IPython.display.IFrame instead\")\n"
     ]
    },
    {
     "data": {
      "text/html": [
       "<iframe src=mapper_reto_nino1_2.html width=100%% height=800 frameBorder=\"0\"></iframe>"
      ],
      "text/plain": [
       "<IPython.core.display.HTML object>"
      ]
     },
     "metadata": {},
     "output_type": "display_data"
    }
   ],
   "source": [
    "mapper.visualize(G, \n",
    "                title='Performance Data based on SSL nino1+2 and Mean of other four',\n",
    "                color_values = merge3['nino3_4'].to_numpy(),\n",
    "                color_function_name = 'Mean',\n",
    "                node_color_function=np.array(['average','std','sum','max','min']))\n",
    "\n",
    "km.jupyter.display(\"mapper_reto_nino1_2.html\")"
   ]
  }
 ],
 "metadata": {
  "kernelspec": {
   "display_name": "base",
   "language": "python",
   "name": "python3"
  },
  "language_info": {
   "codemirror_mode": {
    "name": "ipython",
    "version": 3
   },
   "file_extension": ".py",
   "mimetype": "text/x-python",
   "name": "python",
   "nbconvert_exporter": "python",
   "pygments_lexer": "ipython3",
   "version": "3.9.16"
  },
  "orig_nbformat": 4
 },
 "nbformat": 4,
 "nbformat_minor": 2
}
